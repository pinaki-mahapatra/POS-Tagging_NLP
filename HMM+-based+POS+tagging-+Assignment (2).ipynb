{
 "cells": [
  {
   "cell_type": "markdown",
   "metadata": {},
   "source": [
    "## POS tagging using modified Viterbi"
   ]
  },
  {
   "cell_type": "markdown",
   "metadata": {},
   "source": [
    "### 1. Data Preparation"
   ]
  },
  {
   "cell_type": "code",
   "execution_count": 209,
   "metadata": {},
   "outputs": [],
   "source": [
    "#Importing libraries\n",
    "import nltk, re, pprint\n",
    "import numpy as np\n",
    "import pandas as pd\n",
    "import requests\n",
    "import matplotlib.pyplot as plt\n",
    "import seaborn as sns\n",
    "import pprint, time\n",
    "import random\n",
    "from sklearn.model_selection import train_test_split\n",
    "from nltk.tokenize import word_tokenize"
   ]
  },
  {
   "cell_type": "code",
   "execution_count": 211,
   "metadata": {},
   "outputs": [
    {
     "name": "stderr",
     "output_type": "stream",
     "text": [
      "[nltk_data] Downloading package treebank to\n",
      "[nltk_data]     C:\\Users\\PINAKI\\AppData\\Roaming\\nltk_data...\n",
      "[nltk_data]   Package treebank is already up-to-date!\n"
     ]
    },
    {
     "data": {
      "text/plain": [
       "True"
      ]
     },
     "execution_count": 211,
     "metadata": {},
     "output_type": "execute_result"
    }
   ],
   "source": [
    "# Dowloading \"Treebank corpus\"\n",
    "nltk.download('treebank')"
   ]
  },
  {
   "cell_type": "code",
   "execution_count": 212,
   "metadata": {},
   "outputs": [
    {
     "name": "stderr",
     "output_type": "stream",
     "text": [
      "[nltk_data] Downloading package universal_tagset to\n",
      "[nltk_data]     C:\\Users\\PINAKI\\AppData\\Roaming\\nltk_data...\n",
      "[nltk_data]   Package universal_tagset is already up-to-date!\n"
     ]
    },
    {
     "data": {
      "text/plain": [
       "True"
      ]
     },
     "execution_count": 212,
     "metadata": {},
     "output_type": "execute_result"
    }
   ],
   "source": [
    "# Dowloading \"universal_tagset\"\n",
    "nltk.download('universal_tagset')"
   ]
  },
  {
   "cell_type": "code",
   "execution_count": 213,
   "metadata": {},
   "outputs": [
    {
     "name": "stderr",
     "output_type": "stream",
     "text": [
      "[nltk_data] Downloading package punkt to\n",
      "[nltk_data]     C:\\Users\\PINAKI\\AppData\\Roaming\\nltk_data...\n",
      "[nltk_data]   Unzipping tokenizers\\punkt.zip.\n"
     ]
    },
    {
     "data": {
      "text/plain": [
       "True"
      ]
     },
     "execution_count": 213,
     "metadata": {},
     "output_type": "execute_result"
    }
   ],
   "source": [
    "nltk.download('punkt')"
   ]
  },
  {
   "cell_type": "code",
   "execution_count": 214,
   "metadata": {},
   "outputs": [],
   "source": [
    "# reading the Treebank tagged sentences\n",
    "nltk_data = list(nltk.corpus.treebank.tagged_sents(tagset='universal'))"
   ]
  },
  {
   "cell_type": "code",
   "execution_count": 215,
   "metadata": {},
   "outputs": [
    {
     "name": "stdout",
     "output_type": "stream",
     "text": [
      "[[('Pierre', 'NOUN'), ('Vinken', 'NOUN'), (',', '.'), ('61', 'NUM'), ('years', 'NOUN'), ('old', 'ADJ'), (',', '.'), ('will', 'VERB'), ('join', 'VERB'), ('the', 'DET'), ('board', 'NOUN'), ('as', 'ADP'), ('a', 'DET'), ('nonexecutive', 'ADJ'), ('director', 'NOUN'), ('Nov.', 'NOUN'), ('29', 'NUM'), ('.', '.')], [('Mr.', 'NOUN'), ('Vinken', 'NOUN'), ('is', 'VERB'), ('chairman', 'NOUN'), ('of', 'ADP'), ('Elsevier', 'NOUN'), ('N.V.', 'NOUN'), (',', '.'), ('the', 'DET'), ('Dutch', 'NOUN'), ('publishing', 'VERB'), ('group', 'NOUN'), ('.', '.')], [('Rudolph', 'NOUN'), ('Agnew', 'NOUN'), (',', '.'), ('55', 'NUM'), ('years', 'NOUN'), ('old', 'ADJ'), ('and', 'CONJ'), ('former', 'ADJ'), ('chairman', 'NOUN'), ('of', 'ADP'), ('Consolidated', 'NOUN'), ('Gold', 'NOUN'), ('Fields', 'NOUN'), ('PLC', 'NOUN'), (',', '.'), ('was', 'VERB'), ('named', 'VERB'), ('*-1', 'X'), ('a', 'DET'), ('nonexecutive', 'ADJ'), ('director', 'NOUN'), ('of', 'ADP'), ('this', 'DET'), ('British', 'ADJ'), ('industrial', 'ADJ'), ('conglomerate', 'NOUN'), ('.', '.')], [('A', 'DET'), ('form', 'NOUN'), ('of', 'ADP'), ('asbestos', 'NOUN'), ('once', 'ADV'), ('used', 'VERB'), ('*', 'X'), ('*', 'X'), ('to', 'PRT'), ('make', 'VERB'), ('Kent', 'NOUN'), ('cigarette', 'NOUN'), ('filters', 'NOUN'), ('has', 'VERB'), ('caused', 'VERB'), ('a', 'DET'), ('high', 'ADJ'), ('percentage', 'NOUN'), ('of', 'ADP'), ('cancer', 'NOUN'), ('deaths', 'NOUN'), ('among', 'ADP'), ('a', 'DET'), ('group', 'NOUN'), ('of', 'ADP'), ('workers', 'NOUN'), ('exposed', 'VERB'), ('*', 'X'), ('to', 'PRT'), ('it', 'PRON'), ('more', 'ADV'), ('than', 'ADP'), ('30', 'NUM'), ('years', 'NOUN'), ('ago', 'ADP'), (',', '.'), ('researchers', 'NOUN'), ('reported', 'VERB'), ('0', 'X'), ('*T*-1', 'X'), ('.', '.')], [('The', 'DET'), ('asbestos', 'NOUN'), ('fiber', 'NOUN'), (',', '.'), ('crocidolite', 'NOUN'), (',', '.'), ('is', 'VERB'), ('unusually', 'ADV'), ('resilient', 'ADJ'), ('once', 'ADP'), ('it', 'PRON'), ('enters', 'VERB'), ('the', 'DET'), ('lungs', 'NOUN'), (',', '.'), ('with', 'ADP'), ('even', 'ADV'), ('brief', 'ADJ'), ('exposures', 'NOUN'), ('to', 'PRT'), ('it', 'PRON'), ('causing', 'VERB'), ('symptoms', 'NOUN'), ('that', 'DET'), ('*T*-1', 'X'), ('show', 'VERB'), ('up', 'PRT'), ('decades', 'NOUN'), ('later', 'ADJ'), (',', '.'), ('researchers', 'NOUN'), ('said', 'VERB'), ('0', 'X'), ('*T*-2', 'X'), ('.', '.')]]\n"
     ]
    }
   ],
   "source": [
    "print(nltk_data[:5])"
   ]
  },
  {
   "cell_type": "code",
   "execution_count": 216,
   "metadata": {},
   "outputs": [
    {
     "name": "stdout",
     "output_type": "stream",
     "text": [
      "3718\n",
      "196\n"
     ]
    }
   ],
   "source": [
    "# Splitting into train and test(95%-5%)\n",
    "random.seed(1234)\n",
    "train_set, test_set = train_test_split(nltk_data,test_size=0.05)\n",
    "\n",
    "print(len(train_set))\n",
    "print(len(test_set))"
   ]
  },
  {
   "cell_type": "code",
   "execution_count": 217,
   "metadata": {},
   "outputs": [
    {
     "data": {
      "text/plain": [
       "95493"
      ]
     },
     "execution_count": 217,
     "metadata": {},
     "output_type": "execute_result"
    }
   ],
   "source": [
    "# Getting list of tagged words\n",
    "train_tagged_words = [tup for sent in train_set for tup in sent]\n",
    "len(train_tagged_words)"
   ]
  },
  {
   "cell_type": "code",
   "execution_count": 218,
   "metadata": {},
   "outputs": [
    {
     "data": {
      "text/plain": [
       "['Each',\n",
       " 'new',\n",
       " 'trading',\n",
       " 'roadblock',\n",
       " 'is',\n",
       " 'likely',\n",
       " '*-1',\n",
       " 'to',\n",
       " 'be',\n",
       " 'beaten']"
      ]
     },
     "execution_count": 218,
     "metadata": {},
     "output_type": "execute_result"
    }
   ],
   "source": [
    "# tokens \n",
    "tokens = [pair[0] for pair in train_tagged_words]\n",
    "tokens[:10]"
   ]
  },
  {
   "cell_type": "code",
   "execution_count": 219,
   "metadata": {},
   "outputs": [
    {
     "name": "stdout",
     "output_type": "stream",
     "text": [
      "12047\n"
     ]
    }
   ],
   "source": [
    "# vocabulary\n",
    "V = set(tokens)\n",
    "print(len(V))"
   ]
  },
  {
   "cell_type": "code",
   "execution_count": 220,
   "metadata": {},
   "outputs": [
    {
     "data": {
      "text/plain": [
       "12"
      ]
     },
     "execution_count": 220,
     "metadata": {},
     "output_type": "execute_result"
    }
   ],
   "source": [
    "# number of tags\n",
    "T = set([pair[1] for pair in train_tagged_words])\n",
    "len(T)"
   ]
  },
  {
   "cell_type": "code",
   "execution_count": 221,
   "metadata": {},
   "outputs": [
    {
     "name": "stdout",
     "output_type": "stream",
     "text": [
      "{'ADJ', 'CONJ', 'PRT', 'PRON', 'ADP', 'NOUN', 'NUM', 'VERB', '.', 'X', 'DET', 'ADV'}\n"
     ]
    }
   ],
   "source": [
    "# Printing Tags\n",
    "print(T)"
   ]
  },
  {
   "cell_type": "markdown",
   "metadata": {},
   "source": [
    "##### Uploading test instances"
   ]
  },
  {
   "cell_type": "code",
   "execution_count": 224,
   "metadata": {},
   "outputs": [],
   "source": [
    "# Reading the Test Sentences txt\n",
    "text_file = open(r\"C:\\Users\\PINAKI\\Desktop\\upgrad\\NLP\\Assignment\\Sample test sentences.txt\", \"r\")\n",
    "lines = text_file.read()"
   ]
  },
  {
   "cell_type": "code",
   "execution_count": 226,
   "metadata": {},
   "outputs": [
    {
     "data": {
      "text/plain": [
       "['Android',\n",
       " 'is',\n",
       " 'a',\n",
       " 'mobile',\n",
       " 'operating',\n",
       " 'system',\n",
       " 'developed',\n",
       " 'by',\n",
       " 'Google',\n",
       " '.',\n",
       " 'Android',\n",
       " 'has',\n",
       " 'been',\n",
       " 'the',\n",
       " 'best-selling',\n",
       " 'OS',\n",
       " 'worldwide',\n",
       " 'on',\n",
       " 'smartphones',\n",
       " 'since',\n",
       " '2011',\n",
       " 'and',\n",
       " 'on',\n",
       " 'tablets',\n",
       " 'since',\n",
       " '2013',\n",
       " '.',\n",
       " 'Google',\n",
       " 'and',\n",
       " 'Twitter',\n",
       " 'made',\n",
       " 'a',\n",
       " 'deal',\n",
       " 'in',\n",
       " '2015',\n",
       " 'that',\n",
       " 'gave',\n",
       " 'Google',\n",
       " 'access',\n",
       " 'to',\n",
       " 'Twitter',\n",
       " \"'s\",\n",
       " 'firehose',\n",
       " '.',\n",
       " 'Twitter',\n",
       " 'is',\n",
       " 'an',\n",
       " 'online',\n",
       " 'news',\n",
       " 'and',\n",
       " 'social',\n",
       " 'networking',\n",
       " 'service',\n",
       " 'on',\n",
       " 'which',\n",
       " 'users',\n",
       " 'post',\n",
       " 'and',\n",
       " 'interact',\n",
       " 'with',\n",
       " 'messages',\n",
       " 'known',\n",
       " 'as',\n",
       " 'tweets',\n",
       " '.',\n",
       " 'Before',\n",
       " 'entering',\n",
       " 'politics',\n",
       " ',',\n",
       " 'Donald',\n",
       " 'Trump',\n",
       " 'was',\n",
       " 'a',\n",
       " 'domineering',\n",
       " 'businessman',\n",
       " 'and',\n",
       " 'a',\n",
       " 'television',\n",
       " 'personality',\n",
       " '.',\n",
       " 'The',\n",
       " '2018',\n",
       " 'FIFA',\n",
       " 'World',\n",
       " 'Cup',\n",
       " 'is',\n",
       " 'the',\n",
       " '21st',\n",
       " 'FIFA',\n",
       " 'World',\n",
       " 'Cup',\n",
       " ',',\n",
       " 'an',\n",
       " 'international',\n",
       " 'football',\n",
       " 'tournament',\n",
       " 'contested',\n",
       " 'once',\n",
       " 'every',\n",
       " 'four',\n",
       " 'years',\n",
       " '.',\n",
       " 'This',\n",
       " 'is',\n",
       " 'the',\n",
       " 'first',\n",
       " 'World',\n",
       " 'Cup',\n",
       " 'to',\n",
       " 'be',\n",
       " 'held',\n",
       " 'in',\n",
       " 'Eastern',\n",
       " 'Europe',\n",
       " 'and',\n",
       " 'the',\n",
       " '11th',\n",
       " 'time',\n",
       " 'that',\n",
       " 'it',\n",
       " 'has',\n",
       " 'been',\n",
       " 'held',\n",
       " 'in',\n",
       " 'Europe',\n",
       " '.',\n",
       " 'Show',\n",
       " 'me',\n",
       " 'the',\n",
       " 'cheapest',\n",
       " 'round',\n",
       " 'trips',\n",
       " 'from',\n",
       " 'Dallas',\n",
       " 'to',\n",
       " 'Atlanta',\n",
       " 'I',\n",
       " 'would',\n",
       " 'like',\n",
       " 'to',\n",
       " 'see',\n",
       " 'flights',\n",
       " 'from',\n",
       " 'Denver',\n",
       " 'to',\n",
       " 'Philadelphia',\n",
       " '.',\n",
       " 'Show',\n",
       " 'me',\n",
       " 'the',\n",
       " 'price',\n",
       " 'of',\n",
       " 'the',\n",
       " 'flights',\n",
       " 'leaving',\n",
       " 'Atlanta',\n",
       " 'at',\n",
       " 'about',\n",
       " '3',\n",
       " 'in',\n",
       " 'the',\n",
       " 'afternoon',\n",
       " 'and',\n",
       " 'arriving',\n",
       " 'in',\n",
       " 'San',\n",
       " 'Francisco',\n",
       " '.',\n",
       " 'NASA',\n",
       " 'invited',\n",
       " 'social',\n",
       " 'media',\n",
       " 'users',\n",
       " 'to',\n",
       " 'experience',\n",
       " 'the',\n",
       " 'launch',\n",
       " 'of',\n",
       " 'ICESAT-2',\n",
       " 'Satellite',\n",
       " '.']"
      ]
     },
     "execution_count": 226,
     "metadata": {},
     "output_type": "execute_result"
    }
   ],
   "source": [
    "# Tokenizing the sentences\n",
    "test_instances = word_tokenize(lines)\n",
    "test_instances"
   ]
  },
  {
   "cell_type": "markdown",
   "metadata": {},
   "source": [
    "### 2. Build the vanilla Viterbi based POS tagger"
   ]
  },
  {
   "cell_type": "markdown",
   "metadata": {},
   "source": [
    "##### 2.1 Emission Probability"
   ]
  },
  {
   "cell_type": "code",
   "execution_count": 227,
   "metadata": {},
   "outputs": [],
   "source": [
    "# computing P(w/t) and storing in T x V matrix\n",
    "t = len(T)\n",
    "v = len(V)\n",
    "w_given_t = np.zeros((t, v))"
   ]
  },
  {
   "cell_type": "code",
   "execution_count": 228,
   "metadata": {},
   "outputs": [],
   "source": [
    "# compute word given tag: Emission Probability\n",
    "def word_given_tag(word, tag, train_bag = train_tagged_words):\n",
    "    tag_list = [pair for pair in train_bag if pair[1]==tag]\n",
    "    count_tag = len(tag_list)\n",
    "    w_given_tag_list = [pair[0] for pair in tag_list if pair[0]==word]\n",
    "    count_w_given_tag = len(w_given_tag_list)\n",
    "    \n",
    "    return (count_w_given_tag, count_tag)"
   ]
  },
  {
   "cell_type": "markdown",
   "metadata": {},
   "source": [
    "##### 2.2 Transition Probability"
   ]
  },
  {
   "cell_type": "code",
   "execution_count": 229,
   "metadata": {},
   "outputs": [],
   "source": [
    "# compute tag given tag: tag2(t2) given tag1 (t1), i.e. Transition Probability\n",
    "\n",
    "def t2_given_t1(t2, t1, train_bag = train_tagged_words):\n",
    "    tags = [pair[1] for pair in train_bag]\n",
    "    count_t1 = len([t for t in tags if t==t1])\n",
    "    count_t2_t1 = 0\n",
    "    for index in range(len(tags)-1):\n",
    "        if tags[index]==t1 and tags[index+1] == t2:\n",
    "            count_t2_t1 += 1\n",
    "    return (count_t2_t1, count_t1)"
   ]
  },
  {
   "cell_type": "code",
   "execution_count": 230,
   "metadata": {},
   "outputs": [],
   "source": [
    "# creating t x t transition matrix of tags\n",
    "# each column is t2, each row is t1\n",
    "# thus M(i, j) represents P(tj given ti)\n",
    "\n",
    "tags_matrix = np.zeros((len(T), len(T)), dtype='float32')\n",
    "for i, t1 in enumerate(list(T)):\n",
    "    for j, t2 in enumerate(list(T)): \n",
    "        tags_matrix[i, j] = t2_given_t1(t2, t1)[0]/t2_given_t1(t2, t1)[1]"
   ]
  },
  {
   "cell_type": "code",
   "execution_count": 231,
   "metadata": {},
   "outputs": [
    {
     "data": {
      "text/html": [
       "<div>\n",
       "<style scoped>\n",
       "    .dataframe tbody tr th:only-of-type {\n",
       "        vertical-align: middle;\n",
       "    }\n",
       "\n",
       "    .dataframe tbody tr th {\n",
       "        vertical-align: top;\n",
       "    }\n",
       "\n",
       "    .dataframe thead th {\n",
       "        text-align: right;\n",
       "    }\n",
       "</style>\n",
       "<table border=\"1\" class=\"dataframe\">\n",
       "  <thead>\n",
       "    <tr style=\"text-align: right;\">\n",
       "      <th></th>\n",
       "      <th>ADJ</th>\n",
       "      <th>CONJ</th>\n",
       "      <th>PRT</th>\n",
       "      <th>PRON</th>\n",
       "      <th>ADP</th>\n",
       "      <th>NOUN</th>\n",
       "      <th>NUM</th>\n",
       "      <th>VERB</th>\n",
       "      <th>.</th>\n",
       "      <th>X</th>\n",
       "      <th>DET</th>\n",
       "      <th>ADV</th>\n",
       "    </tr>\n",
       "  </thead>\n",
       "  <tbody>\n",
       "    <tr>\n",
       "      <th>ADJ</th>\n",
       "      <td>0.066172</td>\n",
       "      <td>0.017162</td>\n",
       "      <td>0.010891</td>\n",
       "      <td>0.000495</td>\n",
       "      <td>0.077888</td>\n",
       "      <td>0.698680</td>\n",
       "      <td>0.021287</td>\n",
       "      <td>0.012046</td>\n",
       "      <td>0.065017</td>\n",
       "      <td>0.020792</td>\n",
       "      <td>0.004950</td>\n",
       "      <td>0.004620</td>\n",
       "    </tr>\n",
       "    <tr>\n",
       "      <th>CONJ</th>\n",
       "      <td>0.117729</td>\n",
       "      <td>0.000465</td>\n",
       "      <td>0.004653</td>\n",
       "      <td>0.059097</td>\n",
       "      <td>0.054444</td>\n",
       "      <td>0.348534</td>\n",
       "      <td>0.041880</td>\n",
       "      <td>0.155886</td>\n",
       "      <td>0.035365</td>\n",
       "      <td>0.007911</td>\n",
       "      <td>0.119591</td>\n",
       "      <td>0.054444</td>\n",
       "    </tr>\n",
       "    <tr>\n",
       "      <th>PRT</th>\n",
       "      <td>0.084735</td>\n",
       "      <td>0.001978</td>\n",
       "      <td>0.001319</td>\n",
       "      <td>0.017804</td>\n",
       "      <td>0.020442</td>\n",
       "      <td>0.249918</td>\n",
       "      <td>0.059017</td>\n",
       "      <td>0.400923</td>\n",
       "      <td>0.043192</td>\n",
       "      <td>0.012529</td>\n",
       "      <td>0.098582</td>\n",
       "      <td>0.009561</td>\n",
       "    </tr>\n",
       "    <tr>\n",
       "      <th>PRON</th>\n",
       "      <td>0.071787</td>\n",
       "      <td>0.004631</td>\n",
       "      <td>0.012736</td>\n",
       "      <td>0.008105</td>\n",
       "      <td>0.023157</td>\n",
       "      <td>0.212659</td>\n",
       "      <td>0.007719</td>\n",
       "      <td>0.485141</td>\n",
       "      <td>0.040525</td>\n",
       "      <td>0.092628</td>\n",
       "      <td>0.008491</td>\n",
       "      <td>0.032420</td>\n",
       "    </tr>\n",
       "    <tr>\n",
       "      <th>ADP</th>\n",
       "      <td>0.106346</td>\n",
       "      <td>0.000965</td>\n",
       "      <td>0.001501</td>\n",
       "      <td>0.068932</td>\n",
       "      <td>0.016938</td>\n",
       "      <td>0.321184</td>\n",
       "      <td>0.063465</td>\n",
       "      <td>0.008469</td>\n",
       "      <td>0.039987</td>\n",
       "      <td>0.035377</td>\n",
       "      <td>0.323113</td>\n",
       "      <td>0.013722</td>\n",
       "    </tr>\n",
       "  </tbody>\n",
       "</table>\n",
       "</div>"
      ],
      "text/plain": [
       "           ADJ      CONJ       PRT      PRON       ADP      NOUN       NUM  \\\n",
       "ADJ   0.066172  0.017162  0.010891  0.000495  0.077888  0.698680  0.021287   \n",
       "CONJ  0.117729  0.000465  0.004653  0.059097  0.054444  0.348534  0.041880   \n",
       "PRT   0.084735  0.001978  0.001319  0.017804  0.020442  0.249918  0.059017   \n",
       "PRON  0.071787  0.004631  0.012736  0.008105  0.023157  0.212659  0.007719   \n",
       "ADP   0.106346  0.000965  0.001501  0.068932  0.016938  0.321184  0.063465   \n",
       "\n",
       "          VERB         .         X       DET       ADV  \n",
       "ADJ   0.012046  0.065017  0.020792  0.004950  0.004620  \n",
       "CONJ  0.155886  0.035365  0.007911  0.119591  0.054444  \n",
       "PRT   0.400923  0.043192  0.012529  0.098582  0.009561  \n",
       "PRON  0.485141  0.040525  0.092628  0.008491  0.032420  \n",
       "ADP   0.008469  0.039987  0.035377  0.323113  0.013722  "
      ]
     },
     "execution_count": 231,
     "metadata": {},
     "output_type": "execute_result"
    }
   ],
   "source": [
    "# convert the matrix to a df for better readability\n",
    "tags_df = pd.DataFrame(tags_matrix, columns = list(T), index=list(T))\n",
    "tags_df.head(5)"
   ]
  },
  {
   "cell_type": "markdown",
   "metadata": {},
   "source": [
    "###### 2.3 Viterbi POS Algo"
   ]
  },
  {
   "cell_type": "code",
   "execution_count": 232,
   "metadata": {},
   "outputs": [],
   "source": [
    "# Viterbi Heuristic\n",
    "def Viterbi(words, train_bag = train_tagged_words):\n",
    "    state = []\n",
    "    T = list(set([pair[1] for pair in train_bag]))\n",
    "    \n",
    "    for key, word in enumerate(words):\n",
    "        #initialise list of probability column for a given observation\n",
    "        p = [] \n",
    "        for tag in T:\n",
    "            if key == 0:\n",
    "                transition_p = tags_df.loc['.', tag]\n",
    "            else:\n",
    "                transition_p = tags_df.loc[state[-1], tag]\n",
    "                \n",
    "            # compute emission and state probabilities\n",
    "            emission_p = word_given_tag(words[key], tag)[0]/word_given_tag(words[key], tag)[1]\n",
    "            state_probability = emission_p * transition_p    \n",
    "            p.append(state_probability)\n",
    "            \n",
    "        pmax = max(p)\n",
    "        # getting state for which probability is maximum\n",
    "        state_max = T[p.index(pmax)] \n",
    "        state.append(state_max)\n",
    "    return list(zip(words, state))"
   ]
  },
  {
   "cell_type": "markdown",
   "metadata": {},
   "source": [
    "##### 2.4 Executing Viterbi POS tagging to Validation Set"
   ]
  },
  {
   "cell_type": "code",
   "execution_count": 234,
   "metadata": {},
   "outputs": [],
   "source": [
    "# list of tagged words\n",
    "test_run_base = [tup for sent in test_set for tup in sent]\n",
    "\n",
    "# list of untagged words\n",
    "test_tagged_words = [tup[0] for sent in test_set for tup in sent]"
   ]
  },
  {
   "cell_type": "code",
   "execution_count": 235,
   "metadata": {},
   "outputs": [],
   "source": [
    "# tagging the test sentences\n",
    "start = time.time()\n",
    "tagged_seq = Viterbi(test_tagged_words)\n",
    "end = time.time()\n",
    "difference = end-start"
   ]
  },
  {
   "cell_type": "code",
   "execution_count": 236,
   "metadata": {},
   "outputs": [
    {
     "data": {
      "text/plain": [
       "2357.430577278137"
      ]
     },
     "execution_count": 236,
     "metadata": {},
     "output_type": "execute_result"
    }
   ],
   "source": [
    "# time of execution\n",
    "difference"
   ]
  },
  {
   "cell_type": "markdown",
   "metadata": {},
   "source": [
    "##### 2.5 Evaluating Viterbi Model accuracy"
   ]
  },
  {
   "cell_type": "code",
   "execution_count": 237,
   "metadata": {},
   "outputs": [
    {
     "data": {
      "text/plain": [
       "0.9100906810727378"
      ]
     },
     "execution_count": 237,
     "metadata": {},
     "output_type": "execute_result"
    }
   ],
   "source": [
    "# accuracy\n",
    "check = [i for i, j in zip(tagged_seq, test_run_base) if i == j] \n",
    "accuracy = len(check)/len(tagged_seq)\n",
    "accuracy"
   ]
  },
  {
   "cell_type": "code",
   "execution_count": 238,
   "metadata": {},
   "outputs": [
    {
     "data": {
      "text/plain": [
       "[[('trained', 'VERB'), (('bellringers', 'ADJ'), ('bellringers', 'NOUN'))],\n",
       " [('only', 'ADV'), (('40,000', 'ADJ'), ('40,000', 'NUM'))],\n",
       " [('they', 'PRON'), (('own', 'ADJ'), ('own', 'VERB'))],\n",
       " [('banks', 'NOUN'), (('pine', 'ADJ'), ('pine', 'VERB'))],\n",
       " [('pine', 'VERB'), (('for', 'ADP'), ('for', 'PRT'))],\n",
       " [('give', 'VERB'), (('much', 'ADV'), ('much', 'ADJ'))],\n",
       " [('much', 'ADJ'), (('thought', 'VERB'), ('thought', 'NOUN'))],\n",
       " [(\"n't\", 'ADV'), (('forgotten', 'ADJ'), ('forgotten', 'VERB'))],\n",
       " [('the', 'DET'), (('leap', 'ADJ'), ('leap', 'NOUN'))],\n",
       " [('first', 'ADJ'), (('bout', 'ADJ'), ('bout', 'NOUN'))],\n",
       " [('stocks', 'NOUN'), (('skyward', 'ADJ'), ('skyward', 'ADV'))],\n",
       " [('last', 'ADJ'), (('half-hour', 'NOUN'), ('half-hour', 'ADJ'))],\n",
       " [('who', 'PRON'), (('*T*-254', 'ADJ'), ('*T*-254', 'X'))],\n",
       " [('written', 'VERB'), (('enough', 'ADV'), ('enough', 'ADJ'))],\n",
       " [('prevent', 'VERB'), (('such', 'ADJ'), ('such', 'DET'))],\n",
       " [('hero', 'NOUN'), (('sets', 'NOUN'), ('sets', 'VERB'))],\n",
       " [('for', 'ADP'), (('snow', 'ADJ'), ('snow', 'NOUN'))],\n",
       " [('in', 'ADP'), (('search', 'ADJ'), ('search', 'NOUN'))],\n",
       " [('elusive', 'ADJ'), (('sheep', 'ADJ'), ('sheep', 'NOUN'))],\n",
       " [('its', 'PRON'), (('back', 'ADV'), ('back', 'NOUN'))],\n",
       " [('the', 'DET'), (('behest', 'ADJ'), ('behest', 'NOUN'))],\n",
       " [('erudite', 'ADJ'), (('mobster', 'ADJ'), ('mobster', 'NOUN'))],\n",
       " [('system', 'NOUN'), (('that', 'ADP'), ('that', 'DET'))],\n",
       " [('which', 'DET'), (('*T*-162', 'ADJ'), ('*T*-162', 'X'))],\n",
       " [('*T*-162', 'X'), (('costs', 'NOUN'), ('costs', 'VERB'))],\n",
       " [('costs', 'VERB'), (('around', 'ADP'), ('around', 'ADV'))],\n",
       " [('Also', 'ADV'), (('spurring', 'ADJ'), ('spurring', 'VERB'))],\n",
       " [('diaper', 'NOUN'), (('covers', 'VERB'), ('covers', 'NOUN'))],\n",
       " [('with', 'ADP'), (('Velcro', 'ADJ'), ('Velcro', 'NOUN'))],\n",
       " [('fasteners', 'NOUN'), (('that', 'ADP'), ('that', 'DET'))],\n",
       " [('safety', 'NOUN'), (('pins', 'VERB'), ('pins', 'NOUN'))],\n",
       " [('which', 'DET'), (('*T*-212', 'ADJ'), ('*T*-212', 'X'))],\n",
       " [('one-hour', 'ADJ'), (('respite', 'ADJ'), ('respite', 'NOUN'))],\n",
       " [('market', 'NOUN'), (('sell-offs', 'ADJ'), ('sell-offs', 'NOUN'))],\n",
       " [('the', 'DET'), (('maximum', 'ADJ'), ('maximum', 'NOUN'))],\n",
       " [('500', 'NUM'), (('stock-index', 'NOUN'), ('stock-index', 'ADJ'))],\n",
       " [('Class', 'NOUN'), (('A', 'DET'), ('A', 'NOUN'))],\n",
       " [('are', 'VERB'), (('wallowing', 'ADJ'), ('wallowing', 'VERB'))],\n",
       " [('52-week', 'ADJ'), (('high', 'ADJ'), ('high', 'NOUN'))],\n",
       " [('of', 'ADP'), (('16.125', 'ADJ'), ('16.125', 'NUM'))],\n",
       " [('US$', '.'), (('13.73', 'ADJ'), ('13.73', 'NUM'))],\n",
       " [('with', 'ADP'), (('overcapacity', 'ADJ'), ('overcapacity', 'NOUN'))],\n",
       " [('battle', 'NOUN'), (('opens', 'ADJ'), ('opens', 'VERB'))],\n",
       " [('0', 'X'), (('that', 'ADP'), ('that', 'DET'))],\n",
       " [('larger', 'ADJ'), (('captive', 'ADJ'), ('captive', 'NOUN'))],\n",
       " [('captive', 'NOUN'), (('audience', 'ADJ'), ('audience', 'NOUN'))],\n",
       " [('audience', 'NOUN'), (('that', 'ADP'), ('that', 'DET'))],\n",
       " [('that', 'DET'), (('*T*-204', 'ADJ'), ('*T*-204', 'X'))],\n",
       " [('.', '.'), (('DISCOUNT', 'ADJ'), ('DISCOUNT', 'NOUN'))],\n",
       " [('legislation', 'NOUN'), (('that', 'ADP'), ('that', 'DET'))],\n",
       " [('finished', 'VERB'), (('less', 'ADV'), ('less', 'ADJ'))],\n",
       " [('point', 'NOUN'), (('higher', 'ADJ'), ('higher', 'ADV'))],\n",
       " [('moderate', 'ADJ'), (('trading', 'NOUN'), ('trading', 'VERB'))],\n",
       " [('company', 'NOUN'), (('acknowledges', 'ADJ'), ('acknowledges', 'VERB'))],\n",
       " [('of', 'ADP'), (('Elsevier', 'ADJ'), ('Elsevier', 'NOUN'))],\n",
       " [('the', 'DET'), (('Dutch', 'ADJ'), ('Dutch', 'NOUN'))],\n",
       " [('Dutch', 'NOUN'), (('publishing', 'NOUN'), ('publishing', 'VERB'))],\n",
       " [('.', '.'), (('INTER-TEL', 'ADJ'), ('INTER-TEL', 'NOUN'))],\n",
       " [('was', 'VERB'), (('down', 'ADV'), ('down', 'ADP'))],\n",
       " [('$', '.'), (('5.70', 'ADJ'), ('5.70', 'NUM'))],\n",
       " [('$', '.'), (('494.50', 'ADJ'), ('494.50', 'NUM'))],\n",
       " [('Old', 'NOUN'), (('Gringo', 'ADJ'), ('Gringo', 'NOUN'))],\n",
       " [('a', 'DET'), (('confused', 'VERB'), ('confused', 'ADJ'))],\n",
       " [('confused', 'ADJ'), (('rendering', 'ADJ'), ('rendering', 'NOUN'))],\n",
       " [('Carlos', 'NOUN'), (('Fuentes', 'ADJ'), ('Fuentes', 'NOUN'))],\n",
       " [('the', 'DET'), (('Mexican', 'ADJ'), ('Mexican', 'NOUN'))],\n",
       " [('Mexican', 'NOUN'), (('Revolution', 'ADJ'), ('Revolution', 'NOUN'))],\n",
       " [('vehicles', 'NOUN'), (('weighing', 'ADJ'), ('weighing', 'VERB'))],\n",
       " [('stepped', 'VERB'), (('up', 'ADV'), ('up', 'PRT'))],\n",
       " [('left', 'VERB'), (('*-74', 'ADJ'), ('*-74', 'X'))],\n",
       " [('his', 'PRON'), (('stable', 'ADJ'), ('stable', 'NOUN'))],\n",
       " [('a', 'DET'), (('waiting', 'ADJ'), ('waiting', 'VERB'))],\n",
       " [('.', '.'), (('Courts', 'ADJ'), ('Courts', 'NOUN'))],\n",
       " [('DES', 'NOUN'), (('pills', 'ADJ'), ('pills', 'NOUN'))],\n",
       " [('test', 'NOUN'), (('so', 'ADV'), ('so', 'ADP'))],\n",
       " [('be', 'VERB'), (('assessed', 'ADJ'), ('assessed', 'VERB'))],\n",
       " [('the', 'DET'), (('proportion', 'ADJ'), ('proportion', 'NOUN'))],\n",
       " [('of', 'ADP'), (('faith', 'ADJ'), ('faith', 'NOUN'))],\n",
       " [('it', 'PRON'), (('resists', 'ADJ'), ('resists', 'VERB'))],\n",
       " [('$', '.'), (('490', 'ADJ'), ('490', 'NUM'))],\n",
       " [('the', 'DET'), (('buy-back', 'ADJ'), ('buy-back', 'NOUN'))],\n",
       " [('certain', 'ADJ'), (('sectors', 'ADJ'), ('sectors', 'NOUN'))],\n",
       " [('Kent', 'NOUN'), (('Calder', 'ADJ'), ('Calder', 'NOUN'))],\n",
       " [('in', 'ADP'), (('East', 'NOUN'), ('East', 'ADJ'))],\n",
       " [('the', 'DET'), (('Woodrow', 'ADJ'), ('Woodrow', 'NOUN'))],\n",
       " [('Woodrow', 'NOUN'), (('Wilson', 'ADJ'), ('Wilson', 'NOUN'))],\n",
       " [('and', 'CONJ'), (('Internatonal', 'ADJ'), ('Internatonal', 'NOUN'))],\n",
       " [('in', 'ADP'), (('1988-89', 'ADJ'), ('1988-89', 'NUM'))],\n",
       " [('$', '.'), (('14.5', 'ADJ'), ('14.5', 'NUM'))],\n",
       " [('also', 'ADV'), (('fetching', 'ADJ'), ('fetching', 'VERB'))],\n",
       " [('*T*-1', 'X'), (('Miles', 'ADJ'), ('Miles', 'NOUN'))],\n",
       " [('Miles', 'NOUN'), (('Barth', 'ADJ'), ('Barth', 'NOUN'))],\n",
       " [('of', 'ADP'), (('Photography', 'ADJ'), ('Photography', 'NOUN'))],\n",
       " [(\"'s\", 'PRT'), (('beverage', 'ADJ'), ('beverage', 'NOUN'))],\n",
       " [('replace', 'VERB'), (('cardboard', 'ADJ'), ('cardboard', 'NOUN'))],\n",
       " [('concession', 'NOUN'), (('stands', 'VERB'), ('stands', 'NOUN'))],\n",
       " [(',', '.'), (('resembles', 'ADJ'), ('resembles', 'VERB'))],\n",
       " [('the', 'DET'), (('plastic', 'NOUN'), ('plastic', 'ADJ'))],\n",
       " [('plastic', 'ADJ'), (('loops', 'ADJ'), ('loops', 'NOUN'))],\n",
       " [('of', 'ADP'), (('beer', 'ADJ'), ('beer', 'NOUN'))],\n",
       " [('the', 'DET'), (('loops', 'ADJ'), ('loops', 'NOUN'))],\n",
       " [('a', 'DET'), (('web', 'ADJ'), ('web', 'NOUN'))],\n",
       " [('pick', 'VERB'), (('up', 'ADV'), ('up', 'PRT'))],\n",
       " [('the', 'DET'), (('slack', 'ADJ'), ('slack', 'NOUN'))],\n",
       " [('The', 'DET'), (('American', 'ADJ'), ('American', 'NOUN'))],\n",
       " [('Market', 'NOUN'), (('Value', 'ADJ'), ('Value', 'NOUN'))],\n",
       " [('gained', 'VERB'), (('1.56', 'ADJ'), ('1.56', 'NUM'))],\n",
       " [('to', 'PRT'), (('372.14', 'ADJ'), ('372.14', 'NUM'))],\n",
       " [('.', '.'), (('Almost', 'ADJ'), ('Almost', 'ADV'))],\n",
       " [('little', 'ADJ'), (('guy', 'ADJ'), ('guy', 'NOUN'))],\n",
       " [('he', 'PRON'), (('invariably', 'ADJ'), ('invariably', 'ADV'))],\n",
       " [('*', 'X'), (('Adopting', 'ADJ'), ('Adopting', 'VERB'))],\n",
       " [('and', 'CONJ'), (('diming', 'ADJ'), ('diming', 'NOUN'))],\n",
       " [('to', 'PRT'), (('institute', 'NOUN'), ('institute', 'VERB'))],\n",
       " [('market', 'NOUN'), (('slides', 'VERB'), ('slides', 'NOUN'))],\n",
       " [('also', 'ADV'), (('empowers', 'ADJ'), ('empowers', 'VERB'))],\n",
       " [('make', 'VERB'), (('recess', 'ADJ'), ('recess', 'NOUN'))],\n",
       " [('have', 'VERB'), (('Power', 'ADJ'), ('Power', 'NOUN'))],\n",
       " [('fill', 'VERB'), (('up', 'ADV'), ('up', 'PRT'))],\n",
       " [('all', 'DET'), (('Vacancies', 'ADJ'), ('Vacancies', 'NOUN'))],\n",
       " [('Vacancies', 'NOUN'), (('that', 'ADP'), ('that', 'DET'))],\n",
       " [('the', 'DET'), (('Recess', 'ADJ'), ('Recess', 'NOUN'))],\n",
       " [('*-2', 'X'), (('granting', 'ADJ'), ('granting', 'VERB'))],\n",
       " [('granting', 'VERB'), (('Commissions', 'ADJ'), ('Commissions', 'NOUN'))],\n",
       " [('the', 'DET'), (('End', 'ADJ'), ('End', 'NOUN'))],\n",
       " [('next', 'ADJ'), (('Session', 'ADJ'), ('Session', 'NOUN'))],\n",
       " [('the', 'DET'), (('American', 'ADJ'), ('American', 'NOUN'))],\n",
       " [('upon', 'ADP'), (('billing', 'ADJ'), ('billing', 'NOUN'))],\n",
       " [(',', '.'), (('portray', 'ADJ'), ('portray', 'VERB'))],\n",
       " [('the', 'DET'), (('Neanderthals', 'ADJ'), ('Neanderthals', 'NOUN'))],\n",
       " [('in', 'ADP'), (('Hiroshima', 'ADJ'), ('Hiroshima', 'NOUN'))],\n",
       " [('*T*-1', 'X'), (('causes', 'NOUN'), ('causes', 'VERB'))],\n",
       " [('investors', 'NOUN'), (('initiating', 'ADJ'), ('initiating', 'VERB'))],\n",
       " [('a', 'DET'), (('buy', 'VERB'), ('buy', 'NOUN'))],\n",
       " [('or', 'CONJ'), (('sell', 'VERB'), ('sell', 'NOUN'))],\n",
       " [('--', '.'), (('Video', 'ADJ'), ('Video', 'NOUN'))],\n",
       " [('Video', 'NOUN'), (('Tip', 'ADJ'), ('Tip', 'NOUN'))],\n",
       " [('City', 'NOUN'), (('Lights', 'ADJ'), ('Lights', 'NOUN'))],\n",
       " [('no', 'DET'), (('crack', 'VERB'), ('crack', 'NOUN'))],\n",
       " [('of', 'ADP'), (('Cosmopolitan', 'ADJ'), ('Cosmopolitan', 'NOUN'))],\n",
       " [('no', 'DET'), (('one', 'NUM'), ('one', 'PRON'))],\n",
       " [('one', 'PRON'), (('curled', 'ADJ'), ('curled', 'VERB'))],\n",
       " [('a', 'DET'), (('cardboard', 'ADJ'), ('cardboard', 'NOUN'))],\n",
       " [(':', '.'), (('Cataracts', 'ADJ'), ('Cataracts', 'NOUN'))],\n",
       " [('Cataracts', 'NOUN'), (('refer', 'ADJ'), ('refer', 'VERB'))],\n",
       " [('a', 'DET'), (('clouding', 'ADJ'), ('clouding', 'NOUN'))],\n",
       " [('to', 'PRT'), (('offend', 'ADJ'), ('offend', 'VERB'))],\n",
       " [('largest', 'ADJ'), (('lender', 'ADJ'), ('lender', 'NOUN'))],\n",
       " [('Richard', 'NOUN'), (('Drobnick', 'ADJ'), ('Drobnick', 'NOUN'))],\n",
       " [('a', 'DET'), (('knife', 'ADJ'), ('knife', 'NOUN'))],\n",
       " [(\"''\", '.'), (('Four', 'ADJ'), ('Four', 'NUM'))],\n",
       " [('recently', 'ADV'), (('diagnosed', 'ADJ'), ('diagnosed', 'VERB'))],\n",
       " [('have', 'VERB'), (('accounted', 'ADJ'), ('accounted', 'VERB'))],\n",
       " [('for', 'ADP'), (('as', 'ADP'), ('as', 'ADV'))],\n",
       " [('the', 'DET'), (('sterling', 'ADJ'), ('sterling', 'NOUN'))],\n",
       " [('``', '.'), (('Particularly', 'ADJ'), ('Particularly', 'ADV'))],\n",
       " [('to', 'PRT'), (('properly', 'ADJ'), ('properly', 'ADV'))],\n",
       " [('properly', 'ADV'), (('record', 'NOUN'), ('record', 'VERB'))],\n",
       " [('in', 'ADP'), (('spite', 'ADJ'), ('spite', 'NOUN'))],\n",
       " [('the', 'DET'), (('firm', 'NOUN'), ('firm', 'ADJ'))],\n",
       " [('to', 'PRT'), (('correct', 'ADJ'), ('correct', 'VERB'))],\n",
       " [('His', 'PRON'), (('longer', 'ADV'), ('longer', 'ADJ'))],\n",
       " [('of', 'ADP'), (('executive', 'NOUN'), ('executive', 'ADJ'))],\n",
       " [('*T*-1', 'X'), (('Chuck', 'ADJ'), ('Chuck', 'NOUN'))],\n",
       " [('Chuck', 'NOUN'), (('Hurley', 'ADJ'), ('Hurley', 'NOUN'))],\n",
       " [('of', 'ADP'), (('communications', 'ADJ'), ('communications', 'NOUN'))],\n",
       " [(',', '.'), (('billed', 'ADJ'), ('billed', 'VERB'))],\n",
       " [('``', '.'), (('The', 'DET'), ('The', 'NOUN'))],\n",
       " [('The', 'NOUN'), (('Practical', 'ADJ'), ('Practical', 'NOUN'))],\n",
       " [('the', 'DET'), (('Environment', 'ADJ'), ('Environment', 'NOUN'))],\n",
       " [('visiting', 'VERB'), (('about', 'ADP'), ('about', 'ADV'))],\n",
       " [('about', 'ADV'), (('26,000', 'ADJ'), ('26,000', 'NUM'))],\n",
       " [('cigarette', 'NOUN'), (('stalls', 'ADJ'), ('stalls', 'NOUN'))],\n",
       " [('illegal', 'ADJ'), (('posters', 'ADJ'), ('posters', 'NOUN'))],\n",
       " [('and', 'CONJ'), (('signboards', 'ADJ'), ('signboards', 'NOUN'))],\n",
       " [('signboards', 'NOUN'), (('advertising', 'NOUN'), ('advertising', 'VERB'))],\n",
       " [('failed', 'VERB'),\n",
       "  (('labor-management', 'NOUN'), ('labor-management', 'ADJ'))],\n",
       " [('reductions', 'NOUN'), (('arising', 'ADJ'), ('arising', 'VERB'))],\n",
       " [('the', 'DET'), (('consumption', 'ADJ'), ('consumption', 'NOUN'))],\n",
       " [('to', 'PRT'), (('30,841', 'ADJ'), ('30,841', 'NUM'))],\n",
       " [('from', 'ADP'), (('13,056', 'ADJ'), ('13,056', 'NUM'))],\n",
       " [('coaching', 'NOUN'), (('aids', 'ADJ'), ('aids', 'NOUN'))],\n",
       " [('can', 'VERB'), (('defeat', 'NOUN'), ('defeat', 'VERB'))],\n",
       " [('which', 'DET'), (('*T*-104', 'ADJ'), ('*T*-104', 'X'))],\n",
       " [('gauge', 'VERB'), (('learning', 'ADJ'), ('learning', 'NOUN'))],\n",
       " [('his', 'PRON'), (('only', 'ADV'), ('only', 'ADJ'))],\n",
       " [('only', 'ADJ'), (('means', 'VERB'), ('means', 'NOUN'))],\n",
       " [('Gerald', 'NOUN'), (('Ratner', 'ADJ'), ('Ratner', 'NOUN'))],\n",
       " [('the', 'DET'), (('Ferdinand', 'ADJ'), ('Ferdinand', 'NOUN'))],\n",
       " [('or', 'CONJ'), (('early', 'ADJ'), ('early', 'ADV'))],\n",
       " [('.', '.'), (('Elisa', 'ADJ'), ('Elisa', 'NOUN'))],\n",
       " [('Elisa', 'NOUN'), (('Hollis', 'ADJ'), ('Hollis', 'NOUN'))],\n",
       " [(\"''\", '.'), (('Ruth', 'ADJ'), ('Ruth', 'NOUN'))],\n",
       " [('Nelson', 'NOUN'), (('Cullowhee', 'ADJ'), ('Cullowhee', 'NOUN'))],\n",
       " [(',', '.'), (('traced', 'ADJ'), ('traced', 'VERB'))],\n",
       " [('another', 'DET'), (('wave', 'ADJ'), ('wave', 'NOUN'))],\n",
       " [('is', 'VERB'), (('waiting', 'ADJ'), ('waiting', 'VERB'))],\n",
       " [(\"''\", '.'), (('Named', 'ADJ'), ('Named', 'VERB'))],\n",
       " [('*T*-1', 'X'), (('Roland', 'ADJ'), ('Roland', 'NOUN'))],\n",
       " [('Roland', 'NOUN'), (('Matthews', 'ADJ'), ('Matthews', 'NOUN'))],\n",
       " [('Peter', 'NOUN'), (('Jonas', 'ADJ'), ('Jonas', 'NOUN'))],\n",
       " [(',', '.'), (('executive', 'NOUN'), ('executive', 'ADJ'))],\n",
       " [(',', '.'), (('as', 'ADP'), ('as', 'ADV'))],\n",
       " [('market', 'NOUN'), (('manipulators', 'ADJ'), ('manipulators', 'NOUN'))],\n",
       " [('a', 'DET'), (('shambles', 'ADJ'), ('shambles', 'NOUN'))],\n",
       " [(\"'s\", 'PRT'), (('free-enterprise', 'ADJ'), ('free-enterprise', 'NOUN'))],\n",
       " [('big', 'ADJ'), (('gambling', 'ADJ'), ('gambling', 'NOUN'))],\n",
       " [('gambling', 'NOUN'), (('den', 'ADJ'), ('den', 'NOUN'))],\n",
       " [('the', 'DET'), (('odds', 'ADJ'), ('odds', 'NOUN'))],\n",
       " [('heavily', 'ADV'), (('stacked', 'ADJ'), ('stacked', 'VERB'))],\n",
       " [('Israel', 'NOUN'), (('Silverman', 'ADJ'), ('Silverman', 'NOUN'))],\n",
       " [('an', 'DET'),\n",
       "  (('insurance-company', 'ADJ'), ('insurance-company', 'NOUN'))],\n",
       " [(',', '.'), (('comments', 'NOUN'), ('comments', 'VERB'))],\n",
       " [('``', '.'), (('increases', 'NOUN'), ('increases', 'VERB'))],\n",
       " [('In', 'ADP'), (('Arizona', 'ADJ'), ('Arizona', 'NOUN'))],\n",
       " [(',', '.'), (('Louisiana', 'ADJ'), ('Louisiana', 'NOUN'))],\n",
       " [('classroom', 'NOUN'), (('tools', 'ADJ'), ('tools', 'NOUN'))],\n",
       " [('will', 'VERB'), (('likely', 'ADJ'), ('likely', 'ADV'))],\n",
       " [('likely', 'ADV'), (('trim', 'ADJ'), ('trim', 'VERB'))],\n",
       " [('trim', 'VERB'), (('only', 'ADJ'), ('only', 'ADV'))],\n",
       " [('about', 'ADP'), (('275', 'ADJ'), ('275', 'NUM'))],\n",
       " [('to', 'PRT'), (('350', 'ADJ'), ('350', 'NUM'))],\n",
       " [('than', 'ADP'), (('21,000', 'ADJ'), ('21,000', 'NUM'))],\n",
       " [('Charles', 'NOUN'), (('Wohlstetter', 'ADJ'), ('Wohlstetter', 'NOUN'))],\n",
       " [('is', 'VERB'), (('rallying', 'ADJ'), ('rallying', 'VERB'))],\n",
       " [('trading', 'NOUN'), (('cause', 'VERB'), ('cause', 'NOUN'))],\n",
       " [('letters', 'NOUN'), (('offering', 'NOUN'), ('offering', 'VERB'))],\n",
       " [('offering', 'VERB'), (('support', 'VERB'), ('support', 'NOUN'))],\n",
       " [('revenue-desperate', 'ADJ'), (('magazines', 'ADJ'), ('magazines', 'NOUN'))],\n",
       " [('*-1', 'X'), (('fawning', 'ADJ'), ('fawning', 'VERB'))],\n",
       " [('in', 'ADP'), (('articles', 'ADJ'), ('articles', 'NOUN'))],\n",
       " [('and', 'CONJ'), (('offering', 'NOUN'), ('offering', 'VERB'))],\n",
       " [('in', 'ADP'), (('excess', 'ADJ'), ('excess', 'NOUN'))],\n",
       " [('in', 'ADP'), (('public', 'ADJ'), ('public', 'NOUN'))],\n",
       " [('so', 'ADV'), (('little', 'ADJ'), ('little', 'ADV'))],\n",
       " [('disclosed', 'VERB'), (('*-132', 'ADJ'), ('*-132', 'X'))],\n",
       " [('needed', 'VERB'), (('*-126', 'ADJ'), ('*-126', 'X'))],\n",
       " [('*-126', 'X'), (('following', 'NOUN'), ('following', 'VERB'))],\n",
       " [('tumultuous', 'ADJ'), (('trading', 'NOUN'), ('trading', 'VERB'))],\n",
       " [('and', 'CONJ'), (('stock-index', 'NOUN'), ('stock-index', 'ADJ'))],\n",
       " [('and', 'CONJ'), (('stock-index', 'NOUN'), ('stock-index', 'ADJ'))],\n",
       " [('prices', 'NOUN'), (('skidded', 'ADJ'), ('skidded', 'VERB'))],\n",
       " [('skidded', 'VERB'), (('as', 'ADP'), ('as', 'ADV'))],\n",
       " [(',', '.'), (('operating', 'NOUN'), ('operating', 'VERB'))],\n",
       " [('of', 'ADP'), (('change-ringing', 'ADJ'), ('change-ringing', 'NOUN'))],\n",
       " [('most', 'ADJ'), (('English', 'NOUN'), ('English', 'ADJ'))],\n",
       " [('English', 'ADJ'), (('peculiarities', 'ADJ'), ('peculiarities', 'NOUN'))],\n",
       " [('the', 'DET'), (('astonishment', 'ADJ'), ('astonishment', 'NOUN'))],\n",
       " [('and', 'CONJ'), (('dismay', 'ADJ'), ('dismay', 'NOUN'))],\n",
       " [('her', 'PRON'), (('superiors', 'ADJ'), ('superiors', 'NOUN'))],\n",
       " [('--', '.'), (('and', 'CONJ'), ('and', 'ADJ'))],\n",
       " [('the', 'DET'), (('unpopularity', 'ADJ'), ('unpopularity', 'NOUN'))],\n",
       " [('--', '.'), (('Mrs', 'ADJ'), ('Mrs', 'NOUN'))],\n",
       " [('the', 'DET'), (('resumption', 'ADJ'), ('resumption', 'NOUN'))],\n",
       " [('space', 'NOUN'), (('shuttle', 'ADJ'), ('shuttle', 'NOUN'))],\n",
       " [('expendable', 'ADJ'),\n",
       "  (('launch-vehicle', 'ADJ'), ('launch-vehicle', 'NOUN'))],\n",
       " [('launch-vehicle', 'NOUN'), (('engines', 'ADJ'), ('engines', 'NOUN'))],\n",
       " [('disclosed', 'VERB'), (('*-93', 'ADJ'), ('*-93', 'X'))],\n",
       " [('poorly', 'ADV'), (('documented', 'ADJ'), ('documented', 'VERB'))],\n",
       " [('Beth', 'NOUN'), (('Gates-Warren', 'ADJ'), ('Gates-Warren', 'NOUN'))],\n",
       " [('of', 'ADP'), (('Sotheby', 'ADJ'), ('Sotheby', 'NOUN'))],\n",
       " [(',', '.'), (('net', 'ADJ'), ('net', 'NOUN'))],\n",
       " [('$', '.'), (('306', 'ADJ'), ('306', 'NUM'))],\n",
       " [('market', 'NOUN'), (('crises', 'ADJ'), ('crises', 'NOUN'))],\n",
       " [('to', 'PRT'), (('Haden', 'ADJ'), ('Haden', 'NOUN'))],\n",
       " [('Haden', 'NOUN'), (('MacLellan', 'ADJ'), ('MacLellan', 'NOUN'))],\n",
       " [('of', 'ADP'), (('Surrey', 'ADJ'), ('Surrey', 'NOUN'))],\n",
       " [('recent', 'ADJ'), (('public', 'NOUN'), ('public', 'ADJ'))],\n",
       " [('William', 'NOUN'), (('Feniger', 'ADJ'), ('Feniger', 'NOUN'))],\n",
       " [('at', 'ADP'), (('more', 'ADJ'), ('more', 'ADV'))],\n",
       " [('Candela', 'NOUN'), (('Laser', 'ADJ'), ('Laser', 'NOUN'))],\n",
       " [('a', 'DET'), (('Wayland', 'ADJ'), ('Wayland', 'NOUN'))],\n",
       " [('years', 'NOUN'), (('ago', 'ADP'), ('ago', 'ADV'))],\n",
       " [('its', 'PRON'), (('sights', 'ADJ'), ('sights', 'NOUN'))],\n",
       " [('*-2', 'X'), (('Knowing', 'ADJ'), ('Knowing', 'VERB'))],\n",
       " [('they', 'PRON'), (('eat', 'ADJ'), ('eat', 'VERB'))],\n",
       " [('a', 'DET'), (('standing', 'NOUN'), ('standing', 'ADJ'))],\n",
       " [('standing', 'ADJ'), (('ovation', 'ADJ'), ('ovation', 'NOUN'))],\n",
       " [('building', 'VERB'), (('up', 'ADV'), ('up', 'PRT'))],\n",
       " [('company', 'NOUN'), (('while', 'ADP'), ('while', 'NOUN'))],\n",
       " [('*-1', 'X'), (('refocusing', 'ADJ'), ('refocusing', 'NOUN'))],\n",
       " [('and', 'CONJ'), (('remodeling', 'ADJ'), ('remodeling', 'NOUN'))],\n",
       " [('substantial', 'ADJ'), (('gifts', 'ADJ'), ('gifts', 'NOUN'))],\n",
       " [('from', 'ADP'), (('businessmen', 'ADJ'), ('businessmen', 'NOUN'))],\n",
       " [('--', '.'), (('are', 'VERB'), ('are', 'ADP'))],\n",
       " [('who', 'PRON'), (('*T*-95', 'ADJ'), ('*T*-95', 'X'))],\n",
       " [('Big', 'NOUN'), (('Three', 'NUM'), ('Three', 'NOUN'))],\n",
       " [('.', '.'), (('New', 'NOUN'), ('New', 'ADJ'))],\n",
       " [('rules', 'NOUN'), (('force', 'NOUN'), ('force', 'VERB'))],\n",
       " [('write', 'VERB'), (('down', 'ADV'), ('down', 'PRT'))],\n",
       " [('Gary', 'NOUN'), (('Hoffman', 'ADJ'), ('Hoffman', 'NOUN'))],\n",
       " [('lawyer', 'NOUN'), (('specializing', 'ADJ'), ('specializing', 'VERB'))],\n",
       " [('U.S.', 'NOUN'), (('retaliation', 'ADJ'), ('retaliation', 'NOUN'))],\n",
       " [('the', 'DET'), (('improvements', 'ADJ'), ('improvements', 'NOUN'))],\n",
       " [('dividend', 'NOUN'), (('yield', 'VERB'), ('yield', 'NOUN'))],\n",
       " [('level', 'NOUN'), (('that', 'ADP'), ('that', 'DET'))],\n",
       " [('that', 'DET'), (('*T*-232', 'ADJ'), ('*T*-232', 'X'))],\n",
       " [('Henry', 'NOUN'), (('I.', 'ADJ'), ('I.', 'NOUN'))],\n",
       " [('was', 'VERB'), (('muted', 'ADJ'), ('muted', 'VERB'))],\n",
       " [('the', 'DET'), (('observance', 'ADJ'), ('observance', 'NOUN'))],\n",
       " [('of', 'ADP'), (('All', 'DET'), ('All', 'NOUN'))],\n",
       " [('All', 'NOUN'), (('Saints', 'ADJ'), ('Saints', 'NOUN'))],\n",
       " [(\"'\", 'PRT'), (('Day', 'ADJ'), ('Day', 'NOUN'))],\n",
       " [('shares', 'NOUN'), (('*T*-121', 'ADJ'), ('*T*-121', 'X'))],\n",
       " [('*T*-121', 'X'), (('trade', 'NOUN'), ('trade', 'VERB'))],\n",
       " [('Congress', 'NOUN'), (('repeals', 'ADJ'), ('repeals', 'VERB'))],\n",
       " [('make', 'VERB'), (('recess', 'ADJ'), ('recess', 'NOUN'))],\n",
       " [('Henry', 'NOUN'), (('Holt', 'ADJ'), ('Holt', 'NOUN'))],\n",
       " [(',', '.'), (('326', 'ADJ'), ('326', 'NUM'))],\n",
       " [('$', '.'), (('19.95', 'ADJ'), ('19.95', 'NUM'))],\n",
       " [('highly', 'ADV'), (('detailed', 'ADJ'), ('detailed', 'VERB'))],\n",
       " [('large', 'ADJ'), (('integrated', 'ADJ'), ('integrated', 'VERB'))],\n",
       " [('trend', 'NOUN'), (('improves', 'ADJ'), ('improves', 'VERB'))],\n",
       " [('which', 'DET'), (('*T*-88', 'ADJ'), ('*T*-88', 'X'))],\n",
       " [('and', 'CONJ'), (('ushered', 'ADJ'), ('ushered', 'VERB'))],\n",
       " [('ushered', 'VERB'), (('in', 'ADP'), ('in', 'PRT'))],\n",
       " [('new', 'ADJ'), (('public', 'NOUN'), ('public', 'ADJ'))],\n",
       " [('school', 'NOUN'), (('betterment', 'ADJ'), ('betterment', 'NOUN'))],\n",
       " [('No', 'DET'), (('dummies', 'ADJ'), ('dummies', 'NOUN'))],\n",
       " [('letters', 'NOUN'), (('explaining', 'ADJ'), ('explaining', 'VERB'))],\n",
       " [('will', 'VERB'), (('end', 'NOUN'), ('end', 'VERB'))],\n",
       " [('to', 'PRT'), (('sacrifice', 'ADJ'), ('sacrifice', 'VERB'))],\n",
       " [('when', 'ADV'), (('trading', 'VERB'), ('trading', 'NOUN'))],\n",
       " [('trading', 'NOUN'), (('resumes', 'ADJ'), ('resumes', 'VERB'))],\n",
       " [('futures', 'NOUN'), (('fall', 'NOUN'), ('fall', 'VERB'))],\n",
       " [(\"'s\", 'PRT'), (('close', 'VERB'), ('close', 'NOUN'))],\n",
       " [('trading', 'NOUN'), (('halt', 'VERB'), ('halt', 'NOUN'))],\n",
       " [('The', 'DET'), (('len', 'ADJ'), ('len', 'NOUN'))],\n",
       " [(\"'s\", 'PRT'), (('foldability', 'ADJ'), ('foldability', 'NOUN'))],\n",
       " [('be', 'VERB'), (('inserted', 'ADJ'), ('inserted', 'VERB'))],\n",
       " [('smaller', 'ADJ'), (('incisions', 'ADJ'), ('incisions', 'NOUN'))],\n",
       " [('eye', 'NOUN'), (('care', 'VERB'), ('care', 'NOUN'))],\n",
       " [('skin', 'NOUN'), (('care', 'VERB'), ('care', 'NOUN'))],\n",
       " [('.', '.'), (('Scientists', 'ADJ'), ('Scientists', 'NOUN'))],\n",
       " [('of', 'ADP'), (('current', 'ADJ'), ('current', 'NOUN'))],\n",
       " [('A', 'DET'), (('shift', 'ADJ'), ('shift', 'NOUN'))],\n",
       " [('producing', 'VERB'), (('more', 'ADV'), ('more', 'ADJ'))],\n",
       " [('a', 'DET'), (('more', 'ADJ'), ('more', 'ADV'))],\n",
       " [('drastic', 'ADJ'), (('shift', 'ADJ'), ('shift', 'NOUN'))],\n",
       " [('set', 'VERB'), (('up', 'ADV'), ('up', 'PRT'))],\n",
       " [('up', 'PRT'), (('mechanisms', 'ADJ'), ('mechanisms', 'NOUN'))],\n",
       " [('to', 'PRT'), (('limit', 'NOUN'), ('limit', 'VERB'))],\n",
       " [('how', 'ADV'), (('far', 'ADV'), ('far', 'ADJ'))],\n",
       " [('questions', 'NOUN'), (('range', 'NOUN'), ('range', 'VERB'))],\n",
       " [('a', 'DET'), (('Maine', 'ADJ'), ('Maine', 'NOUN'))],\n",
       " [('Maine', 'NOUN'), (('initiative', 'ADJ'), ('initiative', 'NOUN'))],\n",
       " [('Cruise', 'NOUN'), (('missiles', 'ADJ'), ('missiles', 'NOUN'))],\n",
       " [('North', 'NOUN'), (('Dakota', 'ADJ'), ('Dakota', 'NOUN'))],\n",
       " [('to', 'PRT'), (('report', 'NOUN'), ('report', 'VERB'))],\n",
       " [('was', 'VERB'), (('soliciting', 'ADJ'), ('soliciting', 'VERB'))],\n",
       " [('sell', 'VERB'), (('TXO', 'ADJ'), ('TXO', 'NOUN'))],\n",
       " [('the', 'DET'), (('right', 'NOUN'), ('right', 'ADJ'))],\n",
       " [('so', 'ADV'), (('broadly', 'ADJ'), ('broadly', 'ADV'))],\n",
       " [('broadly', 'ADV'), (('construed', 'ADJ'), ('construed', 'VERB'))],\n",
       " [('would', 'VERB'), (('emasculate', 'ADJ'), ('emasculate', 'VERB'))],\n",
       " [('and', 'CONJ'), (('swallow', 'ADJ'), ('swallow', 'VERB'))],\n",
       " [('.', '.'), (('Superconductors', 'ADJ'), ('Superconductors', 'NOUN'))],\n",
       " [('Superconductors', 'NOUN'), (('conduct', 'NOUN'), ('conduct', 'VERB'))],\n",
       " [('The', 'DET'), (('following', 'NOUN'), ('following', 'VERB'))],\n",
       " [('England', 'NOUN'), (('steadily', 'ADJ'), ('steadily', 'ADV'))],\n",
       " [('steadily', 'ADV'), (('dwindling', 'ADJ'), ('dwindling', 'VERB'))],\n",
       " [('are', 'VERB'), (('pressing', 'ADJ'), ('pressing', 'VERB'))],\n",
       " [('RMS', 'NOUN'), (('distributes', 'ADJ'), ('distributes', 'VERB'))],\n",
       " [('and', 'CONJ'), (('produces', 'ADJ'), ('produces', 'VERB'))],\n",
       " [('power', 'NOUN'), (('supplies', 'VERB'), ('supplies', 'NOUN'))],\n",
       " [('and', 'CONJ'), (('plastic', 'NOUN'), ('plastic', 'ADJ'))],\n",
       " [('plastic', 'ADJ'), (('literature', 'ADJ'), ('literature', 'NOUN'))],\n",
       " [('literature', 'NOUN'), (('displays', 'ADJ'), ('displays', 'NOUN'))],\n",
       " [('generic', 'ADJ'), (('labels', 'ADJ'), ('labels', 'NOUN'))],\n",
       " [('internal', 'ADJ'),\n",
       "  (('contradictions', 'ADJ'), ('contradictions', 'NOUN'))],\n",
       " [('and', 'CONJ'), (('pitting', 'ADJ'), ('pitting', 'VERB'))],\n",
       " [('*-1', 'X'), (('Rated', 'ADJ'), ('Rated', 'VERB'))],\n",
       " [('adds', 'VERB'), (('up', 'ADV'), ('up', 'PRT'))],\n",
       " [('the', 'DET'), (('most', 'ADJ'), ('most', 'ADV'))],\n",
       " [('trading', 'NOUN'), (('that', 'ADP'), ('that', 'DET'))],\n",
       " [('that', 'DET'), (('*T*-253', 'ADJ'), ('*T*-253', 'X'))],\n",
       " [('to', 'PRT'), (('exploit', 'ADJ'), ('exploit', 'VERB'))],\n",
       " [('the', 'DET'), (('Civil', 'ADJ'), ('Civil', 'NOUN'))],\n",
       " [('have', 'VERB'), (('shared', 'ADJ'), ('shared', 'VERB'))],\n",
       " [('*EXP*-1', 'X'), ((\"'s\", 'PRT'), (\"'s\", 'VERB'))],\n",
       " [('something', 'NOUN'), (('that', 'ADP'), ('that', 'ADV'))],\n",
       " [('*T*-1', 'X'), ((\"'s\", 'PRT'), (\"'s\", 'VERB'))],\n",
       " [('?', '.'), (('Integra-A', 'ADJ'), ('Integra-A', 'NOUN'))],\n",
       " [('&', 'CONJ'), (('Restaurant', 'ADJ'), ('Restaurant', 'NOUN'))],\n",
       " [('raise', 'VERB'), (('about', 'ADP'), ('about', 'ADV'))],\n",
       " [('declared', 'VERB'), (('*-103', 'ADJ'), ('*-103', 'X'))],\n",
       " [('*-2', 'X'), (('mailing', 'NOUN'), ('mailing', 'VERB'))],\n",
       " [('to', 'PRT'), (('speak', 'ADJ'), ('speak', 'VERB'))],\n",
       " [('theological', 'ADJ'), (('colleges', 'ADJ'), ('colleges', 'NOUN'))],\n",
       " [('the', 'DET'), (('joys', 'ADJ'), ('joys', 'NOUN'))],\n",
       " [('bell', 'NOUN'), (('ringing', 'VERB'), ('ringing', 'NOUN'))],\n",
       " [('a', 'DET'), (('booklet', 'ADJ'), ('booklet', 'NOUN'))],\n",
       " [('country', 'NOUN'), (('entitled', 'ADJ'), ('entitled', 'VERB'))],\n",
       " [('The', 'DET'), (('Bells', 'ADJ'), ('Bells', 'NOUN'))],\n",
       " [('will', 'VERB'), (('control', 'NOUN'), ('control', 'VERB'))],\n",
       " [('control', 'VERB'), (('that', 'ADP'), ('that', 'DET'))],\n",
       " [('and', 'CONJ'), (('reap', 'ADJ'), ('reap', 'VERB'))],\n",
       " [('$', '.'), (('415.6', 'ADJ'), ('415.6', 'NUM'))],\n",
       " [('$', '.'), (('415.8', 'ADJ'), ('415.8', 'NUM'))],\n",
       " [('The', 'DET'), (('Soviet', 'ADJ'), ('Soviet', 'NOUN'))],\n",
       " [('wants', 'VERB'), (('much', 'ADV'), ('much', 'ADJ'))],\n",
       " [('a', 'DET'), (('strain', 'ADJ'), ('strain', 'NOUN'))],\n",
       " [('may', 'VERB'), (('drop', 'NOUN'), ('drop', 'VERB'))],\n",
       " [('is', 'VERB'), (('broadcasting', 'ADJ'), ('broadcasting', 'VERB'))],\n",
       " [('tune', 'VERB'), (('in', 'ADP'), ('in', 'PRT'))],\n",
       " [('print', 'VERB'), (('hither', 'ADJ'), ('hither', 'ADV'))],\n",
       " [('to', 'PRT'), (('yon', 'ADJ'), ('yon', 'ADV'))],\n",
       " [('the', 'DET'), (('narcotics', 'ADJ'), ('narcotics', 'NOUN'))],\n",
       " [('$', '.'), (('2.375', 'ADJ'), ('2.375', 'NUM'))],\n",
       " [('*U*', 'X'), (('face', 'VERB'), ('face', 'NOUN'))],\n",
       " [('$', '.'), (('6.4', 'ADJ'), ('6.4', 'NUM'))],\n",
       " [('year', 'NOUN'), (('earlier', 'ADV'), ('earlier', 'ADJ'))],\n",
       " [('The', 'DET'), (('Chinese', 'ADJ'), ('Chinese', 'NOUN'))],\n",
       " [('undiplomatic', 'ADJ'), (('fashion', 'ADJ'), ('fashion', 'NOUN'))],\n",
       " [('to', 'PRT'), (('cure', 'ADJ'), ('cure', 'VERB'))],\n",
       " [('City', 'NOUN'), (('Lights', 'ADJ'), ('Lights', 'NOUN'))],\n",
       " [('two-year-old', 'ADJ'), (('waif', 'ADJ'), ('waif', 'NOUN'))],\n",
       " [('-LRB-', '.'), (('Nicole', 'ADJ'), ('Nicole', 'NOUN'))],\n",
       " [('Nicole', 'NOUN'), (('Alysia', 'ADJ'), ('Alysia', 'NOUN'))],\n",
       " [('murdered', 'VERB'), (('*-74', 'ADJ'), ('*-74', 'X'))],\n",
       " [('by', 'ADP'), (('thugs', 'ADJ'), ('thugs', 'NOUN'))],\n",
       " [('almost', 'ADV'), (('exhausted', 'ADJ'), ('exhausted', 'VERB'))],\n",
       " [('the', 'DET'), (('limited', 'ADJ'), ('limited', 'VERB'))],\n",
       " [('the', 'DET'), ((\"'40s\", 'ADJ'), (\"'40s\", 'NUM'))],\n",
       " [('and', 'CONJ'), ((\"'50s\", 'ADJ'), (\"'50s\", 'NUM'))],\n",
       " [('which', 'DET'), (('*T*-165', 'ADJ'), ('*T*-165', 'X'))],\n",
       " [('Richard', 'NOUN'), (('Breeden', 'ADJ'), ('Breeden', 'NOUN'))],\n",
       " [('circuit', 'NOUN'), (('breakers', 'ADJ'), ('breakers', 'NOUN'))],\n",
       " [('breakers', 'NOUN'), (('that', 'ADP'), ('that', 'DET'))],\n",
       " [('that', 'DET'), (('*T*-215', 'ADJ'), ('*T*-215', 'X'))],\n",
       " [('controversy', 'NOUN'), (('first', 'ADJ'), ('first', 'ADV'))],\n",
       " [('of', 'ADP'), (('Hiroshima', 'ADJ'), ('Hiroshima', 'NOUN'))],\n",
       " [('to', 'PRT'), (('design', 'NOUN'), ('design', 'VERB'))],\n",
       " [('to', 'PRT'), (('map', 'ADJ'), ('map', 'VERB'))],\n",
       " [('its', 'PRON'), (('waterworks', 'ADJ'), ('waterworks', 'NOUN'))],\n",
       " [('voters', 'NOUN'), (('disapprove', 'ADJ'), ('disapprove', 'VERB'))],\n",
       " [('his', 'PRON'), (('spouse', 'ADJ'), ('spouse', 'NOUN'))],\n",
       " [(\"'s\", 'PRT'), (('reliance', 'ADJ'), ('reliance', 'NOUN'))],\n",
       " [('stand', 'VERB'), (('up', 'ADV'), ('up', 'PRT'))],\n",
       " [('pay', 'VERB'), (('about', 'ADP'), ('about', 'ADV'))],\n",
       " [('$', '.'), (('77,000', 'ADJ'), ('77,000', 'NUM'))],\n",
       " [('for', 'ADP'), (('free', 'ADJ'), ('free', 'ADV'))],\n",
       " [('becomes', 'VERB'), (('frightened', 'ADJ'), ('frightened', 'VERB'))],\n",
       " [('odd', 'ADJ'), (('lotter', 'ADJ'), ('lotter', 'NOUN'))],\n",
       " [('Larry', 'NOUN'), (('Zicklin', 'ADJ'), ('Zicklin', 'NOUN'))],\n",
       " [('has', 'VERB'), (('cultivated', 'ADJ'), ('cultivated', 'VERB'))],\n",
       " [('a', 'DET'), (('much', 'ADJ'), ('much', 'ADV'))],\n",
       " [('asbestos', 'NOUN'), (('fiber', 'ADJ'), ('fiber', 'NOUN'))],\n",
       " [('resilient', 'ADJ'), (('once', 'ADV'), ('once', 'ADP'))],\n",
       " [('the', 'DET'), (('lungs', 'ADJ'), ('lungs', 'NOUN'))],\n",
       " [('even', 'ADV'), (('brief', 'VERB'), ('brief', 'ADJ'))],\n",
       " [('causing', 'VERB'), (('symptoms', 'ADJ'), ('symptoms', 'NOUN'))],\n",
       " [('symptoms', 'NOUN'), (('that', 'ADP'), ('that', 'DET'))],\n",
       " [('show', 'VERB'), (('up', 'ADV'), ('up', 'PRT'))],\n",
       " [('.', '.'), (('Stadiums', 'ADJ'), ('Stadiums', 'NOUN'))],\n",
       " [('to', 'PRT'), (('redistribute', 'ADJ'), ('redistribute', 'VERB'))],\n",
       " [('create', 'VERB'), (('more', 'ADV'), ('more', 'ADJ'))],\n",
       " [('expected', 'VERB'), (('*-129', 'ADJ'), ('*-129', 'X'))],\n",
       " [('too', 'ADV'), (('low', 'ADJ'), ('low', 'ADV'))],\n",
       " [(\"'s\", 'PRT'), (('Big', 'NOUN'), ('Big', 'ADJ'))],\n",
       " [('--', '.'), (('Hitachi', 'ADJ'), ('Hitachi', 'NOUN'))],\n",
       " [('to', 'PRT'), (('red-flag', 'ADJ'), ('red-flag', 'VERB'))],\n",
       " [('who', 'PRON'), (('*T*-128', 'ADJ'), ('*T*-128', 'X'))],\n",
       " [('who', 'PRON'), (('*T*-129', 'ADJ'), ('*T*-129', 'X'))],\n",
       " [('certified', 'ADJ'), (('mail', 'ADJ'), ('mail', 'NOUN'))],\n",
       " [('the', 'DET'), (('delay', 'VERB'), ('delay', 'NOUN'))]]"
      ]
     },
     "execution_count": 238,
     "metadata": {},
     "output_type": "execute_result"
    }
   ],
   "source": [
    "# Words tagged incorrectly\n",
    "incorrect_tagged_cases = [[test_run_base[i-1],j] for i, j in enumerate(zip(tagged_seq, test_run_base)) if j[0]!=j[1]]\n",
    "incorrect_tagged_cases"
   ]
  },
  {
   "cell_type": "code",
   "execution_count": 239,
   "metadata": {},
   "outputs": [
    {
     "data": {
      "text/plain": [
       "78.40399694442749"
      ]
     },
     "execution_count": 239,
     "metadata": {},
     "output_type": "execute_result"
    }
   ],
   "source": [
    "## Executing in Test Sentences\n",
    "start = time.time()\n",
    "tagged_seq_test = Viterbi(test_instances)\n",
    "end = time.time()\n",
    "difference_test = end-start\n",
    "difference_test"
   ]
  },
  {
   "cell_type": "code",
   "execution_count": 240,
   "metadata": {
    "scrolled": true
   },
   "outputs": [
    {
     "name": "stdout",
     "output_type": "stream",
     "text": [
      "[('Android', 'ADJ'), ('is', 'VERB'), ('a', 'DET'), ('mobile', 'ADJ'), ('operating', 'NOUN'), ('system', 'NOUN'), ('developed', 'VERB'), ('by', 'ADP'), ('Google', 'ADJ'), ('.', '.'), ('Android', 'ADJ'), ('has', 'VERB'), ('been', 'VERB'), ('the', 'DET'), ('best-selling', 'ADJ'), ('OS', 'ADJ'), ('worldwide', 'ADJ'), ('on', 'ADP'), ('smartphones', 'ADJ'), ('since', 'ADP'), ('2011', 'ADJ'), ('and', 'CONJ'), ('on', 'ADP'), ('tablets', 'NOUN'), ('since', 'ADP'), ('2013', 'ADJ'), ('.', '.'), ('Google', 'ADJ'), ('and', 'CONJ'), ('Twitter', 'ADJ'), ('made', 'VERB'), ('a', 'DET'), ('deal', 'NOUN'), ('in', 'ADP'), ('2015', 'ADJ'), ('that', 'ADP'), ('gave', 'VERB'), ('Google', 'ADJ'), ('access', 'NOUN'), ('to', 'PRT'), ('Twitter', 'ADJ'), (\"'s\", 'PRT'), ('firehose', 'ADJ'), ('.', '.'), ('Twitter', 'ADJ'), ('is', 'VERB'), ('an', 'DET'), ('online', 'ADJ'), ('news', 'NOUN'), ('and', 'CONJ'), ('social', 'ADJ'), ('networking', 'NOUN'), ('service', 'NOUN'), ('on', 'ADP'), ('which', 'DET'), ('users', 'NOUN'), ('post', 'NOUN'), ('and', 'CONJ'), ('interact', 'ADJ'), ('with', 'ADP'), ('messages', 'ADJ'), ('known', 'VERB'), ('as', 'ADP'), ('tweets', 'ADJ'), ('.', '.'), ('Before', 'ADP'), ('entering', 'VERB'), ('politics', 'NOUN'), (',', '.'), ('Donald', 'NOUN'), ('Trump', 'NOUN'), ('was', 'VERB'), ('a', 'DET'), ('domineering', 'ADJ'), ('businessman', 'NOUN'), ('and', 'CONJ'), ('a', 'DET'), ('television', 'NOUN'), ('personality', 'ADJ'), ('.', '.'), ('The', 'DET'), ('2018', 'ADJ'), ('FIFA', 'ADJ'), ('World', 'NOUN'), ('Cup', 'ADJ'), ('is', 'VERB'), ('the', 'DET'), ('21st', 'ADJ'), ('FIFA', 'ADJ'), ('World', 'NOUN'), ('Cup', 'ADJ'), (',', '.'), ('an', 'DET'), ('international', 'ADJ'), ('football', 'NOUN'), ('tournament', 'ADJ'), ('contested', 'ADJ'), ('once', 'ADV'), ('every', 'DET'), ('four', 'NUM'), ('years', 'NOUN'), ('.', '.'), ('This', 'DET'), ('is', 'VERB'), ('the', 'DET'), ('first', 'ADJ'), ('World', 'NOUN'), ('Cup', 'ADJ'), ('to', 'PRT'), ('be', 'VERB'), ('held', 'VERB'), ('in', 'ADP'), ('Eastern', 'NOUN'), ('Europe', 'NOUN'), ('and', 'CONJ'), ('the', 'DET'), ('11th', 'ADJ'), ('time', 'NOUN'), ('that', 'ADP'), ('it', 'PRON'), ('has', 'VERB'), ('been', 'VERB'), ('held', 'VERB'), ('in', 'ADP'), ('Europe', 'NOUN'), ('.', '.'), ('Show', 'NOUN'), ('me', 'PRON'), ('the', 'DET'), ('cheapest', 'ADJ'), ('round', 'NOUN'), ('trips', 'ADJ'), ('from', 'ADP'), ('Dallas', 'NOUN'), ('to', 'PRT'), ('Atlanta', 'NOUN'), ('I', 'PRON'), ('would', 'VERB'), ('like', 'ADP'), ('to', 'PRT'), ('see', 'VERB'), ('flights', 'NOUN'), ('from', 'ADP'), ('Denver', 'NOUN'), ('to', 'PRT'), ('Philadelphia', 'NOUN'), ('.', '.'), ('Show', 'NOUN'), ('me', 'PRON'), ('the', 'DET'), ('price', 'NOUN'), ('of', 'ADP'), ('the', 'DET'), ('flights', 'NOUN'), ('leaving', 'VERB'), ('Atlanta', 'NOUN'), ('at', 'ADP'), ('about', 'ADP'), ('3', 'NUM'), ('in', 'ADP'), ('the', 'DET'), ('afternoon', 'NOUN'), ('and', 'CONJ'), ('arriving', 'ADJ'), ('in', 'ADP'), ('San', 'NOUN'), ('Francisco', 'NOUN'), ('.', '.'), ('NASA', 'ADJ'), ('invited', 'ADJ'), ('social', 'ADJ'), ('media', 'NOUN'), ('users', 'NOUN'), ('to', 'PRT'), ('experience', 'NOUN'), ('the', 'DET'), ('launch', 'NOUN'), ('of', 'ADP'), ('ICESAT-2', 'ADJ'), ('Satellite', 'ADJ'), ('.', '.')]\n"
     ]
    }
   ],
   "source": [
    "print(tagged_seq_test)"
   ]
  },
  {
   "cell_type": "markdown",
   "metadata": {},
   "source": [
    "### 3. Viterbi Modifications"
   ]
  },
  {
   "cell_type": "markdown",
   "metadata": {},
   "source": [
    "1. To increase the efficiency of the Viterbi Model, we need to handle the unknown words which are not present in the training corpus.\n",
    "2. For these unknown words `emission probabability` = 0, hence `state probability` = 0 as well"
   ]
  },
  {
   "cell_type": "markdown",
   "metadata": {},
   "source": [
    "##### 3.1 - Method 1 (Tagging unknown words)"
   ]
  },
  {
   "cell_type": "markdown",
   "metadata": {},
   "source": [
    "As we have observed the `emission probability` = 0 for 'unknown words', tagging those words as per the maximum `transistion probability`."
   ]
  },
  {
   "cell_type": "code",
   "execution_count": 241,
   "metadata": {},
   "outputs": [],
   "source": [
    "# Viterbi Heuristic\n",
    "def Viterbi_mod(words, train_bag = train_tagged_words):\n",
    "    state = []\n",
    "    T = list(set([pair[1] for pair in train_bag]))\n",
    "    \n",
    "    for key, word in enumerate(words):\n",
    "        #initialise list of probability column for a given observation\n",
    "        p = []\n",
    "        tp = []\n",
    "        for tag in T:\n",
    "            if key == 0:\n",
    "                transition_p = tags_df.loc['.', tag]\n",
    "            else:\n",
    "                transition_p = tags_df.loc[state[-1], tag]\n",
    "                \n",
    "            # compute emission and state probabilities\n",
    "            emission_p = word_given_tag(words[key], tag)[0]/word_given_tag(words[key], tag)[1]\n",
    "            state_probability = emission_p * transition_p\n",
    "            tp.append(transition_p)\n",
    "            p.append(state_probability)\n",
    "                \n",
    "        if max(p)==0:\n",
    "            pmax = max(tp)\n",
    "            state_max = T[tp.index(pmax)] \n",
    "        else:\n",
    "            pmax = max(p)\n",
    "            state_max = T[p.index(pmax)] \n",
    "        \n",
    "        # getting state for which probability is maximum     \n",
    "        state.append(state_max)\n",
    "        \n",
    "    return list(zip(words, state))"
   ]
  },
  {
   "cell_type": "code",
   "execution_count": 242,
   "metadata": {},
   "outputs": [],
   "source": [
    "# tagging the test sentences Mod 1\n",
    "start = time.time()\n",
    "tagged_seq1 = Viterbi_mod(test_tagged_words)\n",
    "end = time.time()\n",
    "difference1 = end-start"
   ]
  },
  {
   "cell_type": "code",
   "execution_count": 243,
   "metadata": {},
   "outputs": [
    {
     "data": {
      "text/plain": [
       "2196.8854429721832"
      ]
     },
     "execution_count": 243,
     "metadata": {},
     "output_type": "execute_result"
    }
   ],
   "source": [
    "# time of execution Mod1\n",
    "difference1"
   ]
  },
  {
   "cell_type": "markdown",
   "metadata": {},
   "source": [
    "##### 3.1.2 Evaluating accuracy of model 1"
   ]
  },
  {
   "cell_type": "code",
   "execution_count": 248,
   "metadata": {},
   "outputs": [
    {
     "data": {
      "text/plain": [
       "0.9289986494308315"
      ]
     },
     "execution_count": 248,
     "metadata": {},
     "output_type": "execute_result"
    }
   ],
   "source": [
    "# accuracy Mod 1\n",
    "check = [i for i, j in zip(tagged_seq1, test_run_base) if i == j] \n",
    "accuracy1 = len(check)/len(tagged_seq1)\n",
    "accuracy1"
   ]
  },
  {
   "cell_type": "code",
   "execution_count": 291,
   "metadata": {},
   "outputs": [
    {
     "data": {
      "text/plain": [
       "[[('trained', 'VERB'), (('bellringers', 'X'), ('bellringers', 'NOUN'))],\n",
       " [('only', 'ADV'), (('40,000', 'VERB'), ('40,000', 'NUM'))],\n",
       " [('they', 'PRON'), (('own', 'ADJ'), ('own', 'VERB'))],\n",
       " [('A', 'DET'), (('high-balance', 'NOUN'), ('high-balance', 'ADJ'))],\n",
       " [('banks', 'NOUN'), (('pine', 'NOUN'), ('pine', 'VERB'))],\n",
       " [('pine', 'VERB'), (('for', 'ADP'), ('for', 'PRT'))],\n",
       " [('give', 'VERB'), (('much', 'ADV'), ('much', 'ADJ'))],\n",
       " [('much', 'ADJ'), (('thought', 'VERB'), ('thought', 'NOUN'))],\n",
       " [('of', 'ADP'), (('foreign-led', 'DET'), ('foreign-led', 'ADJ'))],\n",
       " [('stocks', 'NOUN'), (('skyward', 'NOUN'), ('skyward', 'ADV'))],\n",
       " [('last', 'ADJ'), (('half-hour', 'NOUN'), ('half-hour', 'ADJ'))],\n",
       " [('who', 'PRON'), (('*T*-254', 'VERB'), ('*T*-254', 'X'))],\n",
       " [('written', 'VERB'), (('enough', 'ADV'), ('enough', 'ADJ'))],\n",
       " [('prevent', 'VERB'), (('such', 'ADJ'), ('such', 'DET'))],\n",
       " [('A', 'DET'), (('disaffected', 'NOUN'), ('disaffected', 'ADJ'))],\n",
       " [(',', '.'), (('hard-drinking', 'NOUN'), ('hard-drinking', 'ADJ'))],\n",
       " [(',', '.'), (('nearly-30', 'NOUN'), ('nearly-30', 'ADJ'))],\n",
       " [('hero', 'NOUN'), (('sets', 'NOUN'), ('sets', 'VERB'))],\n",
       " [('for', 'ADP'), (('snow', 'DET'), ('snow', 'NOUN'))],\n",
       " [('in', 'ADP'), (('search', 'DET'), ('search', 'NOUN'))],\n",
       " [('an', 'DET'), (('elusive', 'NOUN'), ('elusive', 'ADJ'))],\n",
       " [('its', 'PRON'), (('back', 'ADV'), ('back', 'NOUN'))],\n",
       " [('a', 'DET'), (('sinister', 'NOUN'), ('sinister', 'ADJ'))],\n",
       " [(',', '.'), (('erudite', 'NOUN'), ('erudite', 'ADJ'))],\n",
       " [('system', 'NOUN'), (('that', 'ADP'), ('that', 'DET'))],\n",
       " [('the', 'DET'), (('smallest', 'NOUN'), ('smallest', 'ADJ'))],\n",
       " [('which', 'DET'), (('*T*-162', 'NOUN'), ('*T*-162', 'X'))],\n",
       " [('*T*-162', 'X'), (('costs', 'NOUN'), ('costs', 'VERB'))],\n",
       " [('costs', 'VERB'), (('around', 'ADP'), ('around', 'ADV'))],\n",
       " [('diaper', 'NOUN'), (('covers', 'VERB'), ('covers', 'NOUN'))],\n",
       " [('with', 'ADP'), (('Velcro', 'DET'), ('Velcro', 'NOUN'))],\n",
       " [('fasteners', 'NOUN'), (('that', 'ADP'), ('that', 'DET'))],\n",
       " [('safety', 'NOUN'), (('pins', 'VERB'), ('pins', 'NOUN'))],\n",
       " [('which', 'DET'), (('*T*-212', 'NOUN'), ('*T*-212', 'X'))],\n",
       " [('maximum', 'NOUN'), (('one-day', 'NOUN'), ('one-day', 'ADJ'))],\n",
       " [('500', 'NUM'), (('stock-index', 'NOUN'), ('stock-index', 'ADJ'))],\n",
       " [('the', 'DET'), (('one-day', 'NOUN'), ('one-day', 'ADJ'))],\n",
       " [('Class', 'NOUN'), (('A', 'DET'), ('A', 'NOUN'))],\n",
       " [('are', 'VERB'), (('wallowing', 'X'), ('wallowing', 'VERB'))],\n",
       " [('their', 'PRON'), (('52-week', 'VERB'), ('52-week', 'ADJ'))],\n",
       " [('52-week', 'ADJ'), (('high', 'ADJ'), ('high', 'NOUN'))],\n",
       " [('of', 'ADP'), (('16.125', 'DET'), ('16.125', 'NUM'))],\n",
       " [('US$', '.'), (('13.73', 'NOUN'), ('13.73', 'NUM'))],\n",
       " [('with', 'ADP'), (('overcapacity', 'DET'), ('overcapacity', 'NOUN'))],\n",
       " [('battle', 'NOUN'), (('opens', 'NOUN'), ('opens', 'VERB'))],\n",
       " [('0', 'X'), (('that', 'ADP'), ('that', 'DET'))],\n",
       " [('audience', 'NOUN'), (('that', 'ADP'), ('that', 'DET'))],\n",
       " [('that', 'DET'), (('*T*-204', 'DET'), ('*T*-204', 'X'))],\n",
       " [('legislation', 'NOUN'), (('that', 'ADP'), ('that', 'DET'))],\n",
       " [('finished', 'VERB'), (('less', 'ADV'), ('less', 'ADJ'))],\n",
       " [('point', 'NOUN'), (('higher', 'ADJ'), ('higher', 'ADV'))],\n",
       " [('moderate', 'ADJ'), (('trading', 'NOUN'), ('trading', 'VERB'))],\n",
       " [('company', 'NOUN'), (('acknowledges', 'NOUN'), ('acknowledges', 'VERB'))],\n",
       " [('of', 'ADP'), (('Elsevier', 'DET'), ('Elsevier', 'NOUN'))],\n",
       " [('the', 'DET'), (('Dutch', 'ADJ'), ('Dutch', 'NOUN'))],\n",
       " [('Dutch', 'NOUN'), (('publishing', 'NOUN'), ('publishing', 'VERB'))],\n",
       " [('was', 'VERB'), (('down', 'ADV'), ('down', 'ADP'))],\n",
       " [('$', '.'), (('5.70', 'NOUN'), ('5.70', 'NUM'))],\n",
       " [('$', '.'), (('494.50', 'NOUN'), ('494.50', 'NUM'))],\n",
       " [('a', 'DET'), (('confused', 'VERB'), ('confused', 'ADJ'))],\n",
       " [('confused', 'ADJ'), (('rendering', 'X'), ('rendering', 'NOUN'))],\n",
       " [('vehicles', 'NOUN'), (('weighing', 'NOUN'), ('weighing', 'VERB'))],\n",
       " [('stepped', 'VERB'), (('up', 'ADV'), ('up', 'PRT'))],\n",
       " [('his', 'PRON'), (('stable', 'ADJ'), ('stable', 'NOUN'))],\n",
       " [('a', 'DET'), (('waiting', 'NOUN'), ('waiting', 'VERB'))],\n",
       " [('test', 'NOUN'), (('so', 'ADV'), ('so', 'ADP'))],\n",
       " [('be', 'VERB'), (('assessed', 'X'), ('assessed', 'VERB'))],\n",
       " [('of', 'ADP'), (('faith', 'DET'), ('faith', 'NOUN'))],\n",
       " [('$', '.'), (('490', 'NOUN'), ('490', 'NUM'))],\n",
       " [('the', 'DET'), (('buy-back', 'ADJ'), ('buy-back', 'NOUN'))],\n",
       " [('in', 'ADP'), (('East', 'NOUN'), ('East', 'ADJ'))],\n",
       " [('in', 'ADP'), (('1988-89', 'DET'), ('1988-89', 'NUM'))],\n",
       " [('$', '.'), (('14.5', 'NOUN'), ('14.5', 'NUM'))],\n",
       " [('*T*-1', 'X'), (('Miles', 'VERB'), ('Miles', 'NOUN'))],\n",
       " [('Miles', 'NOUN'), (('Barth', 'X'), ('Barth', 'NOUN'))],\n",
       " [('of', 'ADP'), (('Photography', 'DET'), ('Photography', 'NOUN'))],\n",
       " [(\"'s\", 'PRT'), (('beverage', 'VERB'), ('beverage', 'NOUN'))],\n",
       " [('replace', 'VERB'), (('cardboard', 'X'), ('cardboard', 'NOUN'))],\n",
       " [('concession', 'NOUN'), (('stands', 'VERB'), ('stands', 'NOUN'))],\n",
       " [(',', '.'), (('resembles', 'NOUN'), ('resembles', 'VERB'))],\n",
       " [('the', 'DET'), (('plastic', 'NOUN'), ('plastic', 'ADJ'))],\n",
       " [('of', 'ADP'), (('beer', 'DET'), ('beer', 'NOUN'))],\n",
       " [('pick', 'VERB'), (('up', 'ADV'), ('up', 'PRT'))],\n",
       " [('the', 'DET'), (('slack', 'ADJ'), ('slack', 'NOUN'))],\n",
       " [('The', 'DET'), (('American', 'ADJ'), ('American', 'NOUN'))],\n",
       " [('gained', 'VERB'), (('1.56', 'X'), ('1.56', 'NUM'))],\n",
       " [('to', 'PRT'), (('372.14', 'VERB'), ('372.14', 'NUM'))],\n",
       " [('.', '.'), (('Almost', 'NOUN'), ('Almost', 'ADV'))],\n",
       " [('he', 'PRON'), (('invariably', 'VERB'), ('invariably', 'ADV'))],\n",
       " [('a', 'DET'), (('training-wage', 'NOUN'), ('training-wage', 'ADJ'))],\n",
       " [('to', 'PRT'), (('institute', 'NOUN'), ('institute', 'VERB'))],\n",
       " [('market', 'NOUN'), (('slides', 'VERB'), ('slides', 'NOUN'))],\n",
       " [('make', 'VERB'), (('recess', 'X'), ('recess', 'NOUN'))],\n",
       " [('have', 'VERB'), (('Power', 'X'), ('Power', 'NOUN'))],\n",
       " [('fill', 'VERB'), (('up', 'ADV'), ('up', 'PRT'))],\n",
       " [('Vacancies', 'NOUN'), (('that', 'ADP'), ('that', 'DET'))],\n",
       " [('granting', 'VERB'), (('Commissions', 'X'), ('Commissions', 'NOUN'))],\n",
       " [('the', 'DET'), (('American', 'ADJ'), ('American', 'NOUN'))],\n",
       " [('upon', 'ADP'), (('billing', 'DET'), ('billing', 'NOUN'))],\n",
       " [(',', '.'), (('portray', 'NOUN'), ('portray', 'VERB'))],\n",
       " [('portray', 'VERB'), (('old-fashioned', 'NOUN'), ('old-fashioned', 'ADJ'))],\n",
       " [('in', 'ADP'), (('Hiroshima', 'DET'), ('Hiroshima', 'NOUN'))],\n",
       " [('*T*-1', 'X'), (('causes', 'NOUN'), ('causes', 'VERB'))],\n",
       " [('investors', 'NOUN'), (('initiating', 'NOUN'), ('initiating', 'VERB'))],\n",
       " [('a', 'DET'), (('buy', 'VERB'), ('buy', 'NOUN'))],\n",
       " [('or', 'CONJ'), (('sell', 'VERB'), ('sell', 'NOUN'))],\n",
       " [('his', 'PRON'), (('finest', 'VERB'), ('finest', 'ADJ'))],\n",
       " [('no', 'DET'), (('crack', 'VERB'), ('crack', 'NOUN'))],\n",
       " [('no', 'DET'), (('dead-eyed', 'NOUN'), ('dead-eyed', 'ADJ'))],\n",
       " [('selling', 'VERB'), (('four-year-old', 'X'), ('four-year-old', 'ADJ'))],\n",
       " [('of', 'ADP'), (('Cosmopolitan', 'DET'), ('Cosmopolitan', 'NOUN'))],\n",
       " [('no', 'DET'), (('one', 'NUM'), ('one', 'PRON'))],\n",
       " [('one', 'PRON'), (('curled', 'NOUN'), ('curled', 'VERB'))],\n",
       " [('Cataracts', 'NOUN'), (('refer', 'NOUN'), ('refer', 'VERB'))],\n",
       " [(\"''\", '.'), (('Four', 'NOUN'), ('Four', 'NUM'))],\n",
       " [('``', '.'), (('Strategic', 'NOUN'), ('Strategic', 'ADJ'))],\n",
       " [('have', 'VERB'), (('accounted', 'X'), ('accounted', 'VERB'))],\n",
       " [('for', 'ADP'), (('as', 'ADP'), ('as', 'ADV'))],\n",
       " [('``', '.'), (('Particularly', 'NOUN'), ('Particularly', 'ADV'))],\n",
       " [('Particularly', 'ADV'), (('flagrant', 'NOUN'), ('flagrant', 'ADJ'))],\n",
       " [('to', 'PRT'), (('properly', 'VERB'), ('properly', 'ADV'))],\n",
       " [('properly', 'ADV'), (('record', 'NOUN'), ('record', 'VERB'))],\n",
       " [('in', 'ADP'), (('spite', 'DET'), ('spite', 'NOUN'))],\n",
       " [('the', 'DET'), (('firm', 'NOUN'), ('firm', 'ADJ'))],\n",
       " [('earlier', 'ADJ'), (('corporate-wide', 'NOUN'), ('corporate-wide', 'ADJ'))],\n",
       " [('to', 'PRT'), (('correct', 'ADJ'), ('correct', 'VERB'))],\n",
       " [('His', 'PRON'), (('longer', 'ADV'), ('longer', 'ADJ'))],\n",
       " [('of', 'ADP'), (('executive', 'NOUN'), ('executive', 'ADJ'))],\n",
       " [('*T*-1', 'X'), (('Chuck', 'VERB'), ('Chuck', 'NOUN'))],\n",
       " [('Chuck', 'NOUN'), (('Hurley', 'X'), ('Hurley', 'NOUN'))],\n",
       " [('of', 'ADP'), (('communications', 'DET'), ('communications', 'NOUN'))],\n",
       " [(',', '.'), (('billed', 'NOUN'), ('billed', 'VERB'))],\n",
       " [('``', '.'), (('The', 'DET'), ('The', 'NOUN'))],\n",
       " [('visiting', 'VERB'), (('about', 'ADP'), ('about', 'ADV'))],\n",
       " [('about', 'ADV'), (('26,000', 'DET'), ('26,000', 'NUM'))],\n",
       " [('signboards', 'NOUN'), (('advertising', 'NOUN'), ('advertising', 'VERB'))],\n",
       " [('failed', 'VERB'),\n",
       "  (('labor-management', 'NOUN'), ('labor-management', 'ADJ'))],\n",
       " [('reductions', 'NOUN'), (('arising', 'NOUN'), ('arising', 'VERB'))],\n",
       " [('to', 'PRT'), (('30,841', 'VERB'), ('30,841', 'NUM'))],\n",
       " [('from', 'ADP'), (('13,056', 'DET'), ('13,056', 'NUM'))],\n",
       " [('can', 'VERB'), (('defeat', 'NOUN'), ('defeat', 'VERB'))],\n",
       " [('which', 'DET'), (('*T*-104', 'NOUN'), ('*T*-104', 'X'))],\n",
       " [('gauge', 'VERB'), (('learning', 'X'), ('learning', 'NOUN'))],\n",
       " [('his', 'PRON'), (('only', 'ADV'), ('only', 'ADJ'))],\n",
       " [('only', 'ADJ'), (('means', 'VERB'), ('means', 'NOUN'))],\n",
       " [('or', 'CONJ'), (('early', 'ADJ'), ('early', 'ADV'))],\n",
       " [(',', '.'), (('traced', 'NOUN'), ('traced', 'VERB'))],\n",
       " [('is', 'VERB'), (('waiting', 'X'), ('waiting', 'VERB'))],\n",
       " [(\"''\", '.'), (('Named', 'NOUN'), ('Named', 'VERB'))],\n",
       " [('*T*-1', 'X'), (('Roland', 'VERB'), ('Roland', 'NOUN'))],\n",
       " [('Roland', 'NOUN'), (('Matthews', 'X'), ('Matthews', 'NOUN'))],\n",
       " [(',', '.'), (('executive', 'NOUN'), ('executive', 'ADJ'))],\n",
       " [(',', '.'), (('as', 'ADP'), ('as', 'ADV'))],\n",
       " [('0', 'X'), (('greedy', 'VERB'), ('greedy', 'ADJ'))],\n",
       " [(\"'s\", 'PRT'), (('free-enterprise', 'VERB'), ('free-enterprise', 'NOUN'))],\n",
       " [(',', '.'), (('comments', 'NOUN'), ('comments', 'VERB'))],\n",
       " [('``', '.'), (('increases', 'NOUN'), ('increases', 'VERB'))],\n",
       " [('In', 'ADP'), (('Arizona', 'DET'), ('Arizona', 'NOUN'))],\n",
       " [('will', 'VERB'), (('likely', 'ADJ'), ('likely', 'ADV'))],\n",
       " [('likely', 'ADV'), (('trim', 'NOUN'), ('trim', 'VERB'))],\n",
       " [('about', 'ADP'), (('275', 'DET'), ('275', 'NUM'))],\n",
       " [('to', 'PRT'), (('350', 'VERB'), ('350', 'NUM'))],\n",
       " [('than', 'ADP'), (('21,000', 'DET'), ('21,000', 'NUM'))],\n",
       " [('is', 'VERB'), (('rallying', 'X'), ('rallying', 'VERB'))],\n",
       " [('the', 'DET'), (('anti-program', 'NOUN'), ('anti-program', 'ADJ'))],\n",
       " [('trading', 'NOUN'), (('cause', 'VERB'), ('cause', 'NOUN'))],\n",
       " [('``', '.'), (('countless', 'NOUN'), ('countless', 'ADJ'))],\n",
       " [('letters', 'NOUN'), (('offering', 'NOUN'), ('offering', 'VERB'))],\n",
       " [('offering', 'VERB'), (('support', 'VERB'), ('support', 'NOUN'))],\n",
       " [('of', 'ADP'), (('frantic', 'DET'), ('frantic', 'ADJ'))],\n",
       " [('of', 'ADP'), (('revenue-desperate', 'DET'), ('revenue-desperate', 'ADJ'))],\n",
       " [('pretty', 'ADV'), (('cozy', 'VERB'), ('cozy', 'ADJ'))],\n",
       " [('in', 'ADP'), (('articles', 'DET'), ('articles', 'NOUN'))],\n",
       " [('and', 'CONJ'), (('offering', 'NOUN'), ('offering', 'VERB'))],\n",
       " [('of', 'ADP'), (('advertorial', 'DET'), ('advertorial', 'ADJ'))],\n",
       " [('in', 'ADP'), (('excess', 'ADJ'), ('excess', 'NOUN'))],\n",
       " [('in', 'ADP'), (('public', 'ADJ'), ('public', 'NOUN'))],\n",
       " [('so', 'ADV'), (('little', 'ADJ'), ('little', 'ADV'))],\n",
       " [('little', 'ADV'), (('sensitive', 'NOUN'), ('sensitive', 'ADJ'))],\n",
       " [('the', 'DET'), (('tumultuous', 'NOUN'), ('tumultuous', 'ADJ'))],\n",
       " [('tumultuous', 'ADJ'), (('trading', 'NOUN'), ('trading', 'VERB'))],\n",
       " [('and', 'CONJ'), (('stock-index', 'NOUN'), ('stock-index', 'ADJ'))],\n",
       " [('and', 'CONJ'), (('stock-index', 'NOUN'), ('stock-index', 'ADJ'))],\n",
       " [('prices', 'NOUN'), (('skidded', 'NOUN'), ('skidded', 'VERB'))],\n",
       " [('skidded', 'VERB'), (('as', 'ADP'), ('as', 'ADV'))],\n",
       " [(',', '.'), (('operating', 'NOUN'), ('operating', 'VERB'))],\n",
       " [('of', 'ADP'), (('change-ringing', 'DET'), ('change-ringing', 'NOUN'))],\n",
       " [('is', 'VERB'), (('peculiar', 'X'), ('peculiar', 'ADJ'))],\n",
       " [('most', 'ADJ'), (('English', 'NOUN'), ('English', 'ADJ'))],\n",
       " [(',', '.'), (('unintelligible', 'NOUN'), ('unintelligible', 'ADJ'))],\n",
       " [('her', 'PRON'), (('superiors', 'VERB'), ('superiors', 'NOUN'))],\n",
       " [('--', '.'), (('and', 'CONJ'), ('and', 'ADJ'))],\n",
       " [('for', 'ADP'), (('expendable', 'DET'), ('expendable', 'ADJ'))],\n",
       " [('its', 'PRON'), (('longstanding', 'VERB'), ('longstanding', 'ADJ'))],\n",
       " [('largely', 'ADV'), (('anecdotal', 'VERB'), ('anecdotal', 'ADJ'))],\n",
       " [('of', 'ADP'), (('Sotheby', 'DET'), ('Sotheby', 'NOUN'))],\n",
       " [('Sotheby', 'NOUN'), ((\"'s\", 'VERB'), (\"'s\", 'PRT'))],\n",
       " [(',', '.'), (('net', 'ADJ'), ('net', 'NOUN'))],\n",
       " [('$', '.'), (('306', 'NOUN'), ('306', 'NUM'))],\n",
       " [('to', 'PRT'), (('Haden', 'VERB'), ('Haden', 'NOUN'))],\n",
       " [('Haden', 'NOUN'), (('MacLellan', 'X'), ('MacLellan', 'NOUN'))],\n",
       " [('of', 'ADP'), (('Surrey', 'DET'), ('Surrey', 'NOUN'))],\n",
       " [('recent', 'ADJ'), (('public', 'NOUN'), ('public', 'ADJ'))],\n",
       " [('at', 'ADP'), (('more', 'ADJ'), ('more', 'ADV'))],\n",
       " [('years', 'NOUN'), (('ago', 'ADP'), ('ago', 'ADV'))],\n",
       " [('its', 'PRON'), (('sights', 'VERB'), ('sights', 'NOUN'))],\n",
       " [('a', 'DET'), (('tasty', 'NOUN'), ('tasty', 'ADJ'))],\n",
       " [('a', 'DET'), (('standing', 'NOUN'), ('standing', 'ADJ'))],\n",
       " [('building', 'VERB'), (('up', 'ADV'), ('up', 'PRT'))],\n",
       " [('company', 'NOUN'), (('while', 'ADP'), ('while', 'NOUN'))],\n",
       " [('*-1', 'X'), (('refocusing', 'VERB'), ('refocusing', 'NOUN'))],\n",
       " [('refocusing', 'NOUN'), (('building', 'VERB'), ('building', 'NOUN'))],\n",
       " [('from', 'ADP'), (('businessmen', 'DET'), ('businessmen', 'NOUN'))],\n",
       " [('having', 'VERB'), (('extramarital', 'X'), ('extramarital', 'ADJ'))],\n",
       " [('--', '.'), (('are', 'VERB'), ('are', 'ADP'))],\n",
       " [('who', 'PRON'), (('*T*-95', 'VERB'), ('*T*-95', 'X'))],\n",
       " [('Big', 'NOUN'), (('Three', 'NUM'), ('Three', 'NOUN'))],\n",
       " [('.', '.'), (('New', 'NOUN'), ('New', 'ADJ'))],\n",
       " [('rules', 'NOUN'), (('force', 'NOUN'), ('force', 'VERB'))],\n",
       " [('write', 'VERB'), (('down', 'ADV'), ('down', 'PRT'))],\n",
       " [('lawyer', 'NOUN'), (('specializing', 'NOUN'), ('specializing', 'VERB'))],\n",
       " [('of', 'ADP'), (('major-league', 'DET'), ('major-league', 'ADJ'))],\n",
       " [('dividend', 'NOUN'), (('yield', 'VERB'), ('yield', 'NOUN'))],\n",
       " [('level', 'NOUN'), (('that', 'ADP'), ('that', 'DET'))],\n",
       " [('that', 'DET'), (('*T*-232', 'DET'), ('*T*-232', 'X'))],\n",
       " [('and', 'CONJ'), (('unenticing', 'NOUN'), ('unenticing', 'ADJ'))],\n",
       " [('alleged', 'ADJ'), (('improper', 'NOUN'), ('improper', 'ADJ'))],\n",
       " [('improper', 'ADJ'), (('use', 'VERB'), ('use', 'NOUN'))],\n",
       " [('was', 'VERB'), (('muted', 'X'), ('muted', 'VERB'))],\n",
       " [('of', 'ADP'), (('All', 'DET'), ('All', 'NOUN'))],\n",
       " [(\"'\", 'PRT'), (('Day', 'VERB'), ('Day', 'NOUN'))],\n",
       " [('shares', 'NOUN'), (('*T*-121', 'NOUN'), ('*T*-121', 'X'))],\n",
       " [('*T*-121', 'X'), (('trade', 'NOUN'), ('trade', 'VERB'))],\n",
       " [('followed', 'VERB'), (('year-to-year', 'X'), ('year-to-year', 'ADJ'))],\n",
       " [('year-to-year', 'ADJ'), (('increases', 'VERB'), ('increases', 'NOUN'))],\n",
       " [('an', 'DET'), (('early-retirement', 'NOUN'), ('early-retirement', 'ADJ'))],\n",
       " [('Congress', 'NOUN'), (('repeals', 'NOUN'), ('repeals', 'VERB'))],\n",
       " [('make', 'VERB'), (('recess', 'X'), ('recess', 'NOUN'))],\n",
       " [(',', '.'), (('326', 'NOUN'), ('326', 'NUM'))],\n",
       " [('$', '.'), (('19.95', 'NOUN'), ('19.95', 'NUM'))],\n",
       " [('highly', 'ADV'), (('detailed', 'ADJ'), ('detailed', 'VERB'))],\n",
       " [('a', 'DET'), (('reassuring', 'NOUN'), ('reassuring', 'ADJ'))],\n",
       " [('large', 'ADJ'), (('integrated', 'ADJ'), ('integrated', 'VERB'))],\n",
       " [('%', 'NOUN'), (('unconsolidated', 'NOUN'), ('unconsolidated', 'ADJ'))],\n",
       " [('trend', 'NOUN'), (('improves', 'NOUN'), ('improves', 'VERB'))],\n",
       " [('which', 'DET'), (('*T*-88', 'NOUN'), ('*T*-88', 'X'))],\n",
       " [('and', 'CONJ'), (('ushered', 'NOUN'), ('ushered', 'VERB'))],\n",
       " [('ushered', 'VERB'), (('in', 'ADP'), ('in', 'PRT'))],\n",
       " [('new', 'ADJ'), (('public', 'NOUN'), ('public', 'ADJ'))],\n",
       " [('letters', 'NOUN'), (('explaining', 'NOUN'), ('explaining', 'VERB'))],\n",
       " [('will', 'VERB'), (('end', 'NOUN'), ('end', 'VERB'))],\n",
       " [('when', 'ADV'), (('trading', 'VERB'), ('trading', 'NOUN'))],\n",
       " [('trading', 'NOUN'), (('resumes', 'X'), ('resumes', 'VERB'))],\n",
       " [('futures', 'NOUN'), (('fall', 'NOUN'), ('fall', 'VERB'))],\n",
       " [(\"'s\", 'PRT'), (('close', 'VERB'), ('close', 'NOUN'))],\n",
       " [('trading', 'NOUN'), (('halt', 'VERB'), ('halt', 'NOUN'))],\n",
       " [(\"'s\", 'PRT'), (('foldability', 'VERB'), ('foldability', 'NOUN'))],\n",
       " [('be', 'VERB'), (('inserted', 'X'), ('inserted', 'VERB'))],\n",
       " [('eye', 'NOUN'), (('care', 'VERB'), ('care', 'NOUN'))],\n",
       " [('skin', 'NOUN'), (('care', 'VERB'), ('care', 'NOUN'))],\n",
       " [('of', 'ADP'), (('current', 'ADJ'), ('current', 'NOUN'))],\n",
       " [('producing', 'VERB'), (('more', 'ADV'), ('more', 'ADJ'))],\n",
       " [('a', 'DET'), (('more', 'ADJ'), ('more', 'ADV'))],\n",
       " [('more', 'ADV'), (('drastic', 'NOUN'), ('drastic', 'ADJ'))],\n",
       " [('set', 'VERB'), (('up', 'ADV'), ('up', 'PRT'))],\n",
       " [('up', 'PRT'), (('mechanisms', 'VERB'), ('mechanisms', 'NOUN'))],\n",
       " [('to', 'PRT'), (('limit', 'NOUN'), ('limit', 'VERB'))],\n",
       " [('how', 'ADV'), (('far', 'ADV'), ('far', 'ADJ'))],\n",
       " [('questions', 'NOUN'), (('range', 'NOUN'), ('range', 'VERB'))],\n",
       " [('other', 'ADJ'), (('unexpected', 'NOUN'), ('unexpected', 'ADJ'))],\n",
       " [('to', 'PRT'), (('report', 'NOUN'), ('report', 'VERB'))],\n",
       " [('was', 'VERB'), (('soliciting', 'X'), ('soliciting', 'VERB'))],\n",
       " [('sell', 'VERB'), (('TXO', 'X'), ('TXO', 'NOUN'))],\n",
       " [('the', 'DET'), (('right', 'NOUN'), ('right', 'ADJ'))],\n",
       " [('so', 'ADV'), (('broadly', 'VERB'), ('broadly', 'ADV'))],\n",
       " [('broadly', 'ADV'), (('construed', 'X'), ('construed', 'VERB'))],\n",
       " [('would', 'VERB'), (('emasculate', 'X'), ('emasculate', 'VERB'))],\n",
       " [('and', 'CONJ'), (('swallow', 'NOUN'), ('swallow', 'VERB'))],\n",
       " [('The', 'DET'), (('following', 'NOUN'), ('following', 'VERB'))],\n",
       " [('England', 'NOUN'), (('steadily', 'NOUN'), ('steadily', 'ADV'))],\n",
       " [('steadily', 'ADV'), (('dwindling', 'NOUN'), ('dwindling', 'VERB'))],\n",
       " [(',', '.'), (('strong-willed', 'NOUN'), ('strong-willed', 'ADJ'))],\n",
       " [('are', 'VERB'), (('pressing', 'X'), ('pressing', 'VERB'))],\n",
       " [('equally', 'ADV'), (('strong-willed', 'VERB'), ('strong-willed', 'ADJ'))],\n",
       " [('often', 'ADV'), (('non-religious', 'VERB'), ('non-religious', 'ADJ'))],\n",
       " [('RMS', 'NOUN'), (('distributes', 'NOUN'), ('distributes', 'VERB'))],\n",
       " [('and', 'CONJ'), (('produces', 'NOUN'), ('produces', 'VERB'))],\n",
       " [('power', 'NOUN'), (('supplies', 'VERB'), ('supplies', 'NOUN'))],\n",
       " [('and', 'CONJ'), (('plastic', 'NOUN'), ('plastic', 'ADJ'))],\n",
       " [('under', 'ADP'), (('generic', 'DET'), ('generic', 'ADJ'))],\n",
       " [('a', 'DET'), (('civil', 'NOUN'), ('civil', 'ADJ'))],\n",
       " [('and', 'CONJ'), (('pitting', 'NOUN'), ('pitting', 'VERB'))],\n",
       " [('adds', 'VERB'), (('up', 'ADV'), ('up', 'PRT'))],\n",
       " [('to', 'PRT'), (('American-style', 'VERB'), ('American-style', 'ADJ'))],\n",
       " [('the', 'DET'), (('most', 'ADJ'), ('most', 'ADV'))],\n",
       " [('trading', 'NOUN'), (('that', 'ADP'), ('that', 'DET'))],\n",
       " [('that', 'DET'), (('*T*-253', 'DET'), ('*T*-253', 'X'))],\n",
       " [('exploit', 'VERB'), (('brief', 'VERB'), ('brief', 'ADJ'))],\n",
       " [('have', 'VERB'), (('shared', 'X'), ('shared', 'VERB'))],\n",
       " [('such', 'ADJ'), (('lawmaking', 'NOUN'), ('lawmaking', 'ADJ'))],\n",
       " [('*EXP*-1', 'X'), ((\"'s\", 'PRT'), (\"'s\", 'VERB'))],\n",
       " [('something', 'NOUN'), (('that', 'ADP'), ('that', 'ADV'))],\n",
       " [('that', 'ADV'), (('comprehensive', 'DET'), ('comprehensive', 'ADJ'))],\n",
       " [('*T*-1', 'X'), ((\"'s\", 'PRT'), (\"'s\", 'VERB'))],\n",
       " [('raise', 'VERB'), (('about', 'ADP'), ('about', 'ADV'))],\n",
       " [('*-2', 'X'), (('mailing', 'NOUN'), ('mailing', 'VERB'))],\n",
       " [('at', 'ADP'), (('theological', 'DET'), ('theological', 'ADJ'))],\n",
       " [('bell', 'NOUN'), (('ringing', 'VERB'), ('ringing', 'NOUN'))],\n",
       " [('country', 'NOUN'), (('entitled', 'NOUN'), ('entitled', 'VERB'))],\n",
       " [('will', 'VERB'), (('control', 'NOUN'), ('control', 'VERB'))],\n",
       " [('control', 'VERB'), (('that', 'ADP'), ('that', 'DET'))],\n",
       " [('and', 'CONJ'), (('reap', 'NOUN'), ('reap', 'VERB'))],\n",
       " [('$', '.'), (('415.6', 'NOUN'), ('415.6', 'NUM'))],\n",
       " [('$', '.'), (('415.8', 'NOUN'), ('415.8', 'NUM'))],\n",
       " [('The', 'DET'), (('Soviet', 'ADJ'), ('Soviet', 'NOUN'))],\n",
       " [('wants', 'VERB'), (('much', 'ADV'), ('much', 'ADJ'))],\n",
       " [('may', 'VERB'), (('drop', 'NOUN'), ('drop', 'VERB'))],\n",
       " [('is', 'VERB'), (('broadcasting', 'X'), ('broadcasting', 'VERB'))],\n",
       " [('tune', 'VERB'), (('in', 'ADP'), ('in', 'PRT'))],\n",
       " [('print', 'VERB'), (('hither', 'X'), ('hither', 'ADV'))],\n",
       " [('to', 'PRT'), (('yon', 'VERB'), ('yon', 'ADV'))],\n",
       " [('$', '.'), (('2.375', 'NOUN'), ('2.375', 'NUM'))],\n",
       " [('*U*', 'X'), (('face', 'VERB'), ('face', 'NOUN'))],\n",
       " [('$', '.'), (('6.4', 'NOUN'), ('6.4', 'NUM'))],\n",
       " [('year', 'NOUN'), (('earlier', 'ADV'), ('earlier', 'ADJ'))],\n",
       " [('The', 'DET'), (('Chinese', 'ADJ'), ('Chinese', 'NOUN'))],\n",
       " [('equally', 'ADV'), (('undiplomatic', 'VERB'), ('undiplomatic', 'ADJ'))],\n",
       " [('undiplomatic', 'ADJ'), (('fashion', 'X'), ('fashion', 'NOUN'))],\n",
       " [('a', 'DET'), (('two-year-old', 'NOUN'), ('two-year-old', 'ADJ'))],\n",
       " [('by', 'ADP'), (('thugs', 'DET'), ('thugs', 'NOUN'))],\n",
       " [('the', 'DET'), (('limited', 'ADJ'), ('limited', 'VERB'))],\n",
       " [('the', 'DET'), ((\"'40s\", 'NOUN'), (\"'40s\", 'NUM'))],\n",
       " [('and', 'CONJ'), ((\"'50s\", 'NOUN'), (\"'50s\", 'NUM'))],\n",
       " [('which', 'DET'), (('*T*-165', 'NOUN'), ('*T*-165', 'X'))],\n",
       " [('breakers', 'NOUN'), (('that', 'ADP'), ('that', 'DET'))],\n",
       " [('that', 'DET'), (('*T*-215', 'DET'), ('*T*-215', 'X'))],\n",
       " [('``', '.'), (('one-yen', 'NOUN'), ('one-yen', 'ADJ'))],\n",
       " [('controversy', 'NOUN'), (('first', 'ADJ'), ('first', 'ADV'))],\n",
       " [('of', 'ADP'), (('Hiroshima', 'DET'), ('Hiroshima', 'NOUN'))],\n",
       " [('to', 'PRT'), (('design', 'NOUN'), ('design', 'VERB'))],\n",
       " [('its', 'PRON'), (('waterworks', 'VERB'), ('waterworks', 'NOUN'))],\n",
       " [('voters', 'NOUN'), (('disapprove', 'NOUN'), ('disapprove', 'VERB'))],\n",
       " [('his', 'PRON'), (('spouse', 'VERB'), ('spouse', 'NOUN'))],\n",
       " [(\"'s\", 'PRT'), (('reliance', 'VERB'), ('reliance', 'NOUN'))],\n",
       " [('stand', 'VERB'), (('up', 'ADV'), ('up', 'PRT'))],\n",
       " [('pay', 'VERB'), (('about', 'ADP'), ('about', 'ADV'))],\n",
       " [('$', '.'), (('77,000', 'NOUN'), ('77,000', 'NUM'))],\n",
       " [('for', 'ADP'), (('free', 'ADJ'), ('free', 'ADV'))],\n",
       " [('becomes', 'VERB'), (('frightened', 'X'), ('frightened', 'VERB'))],\n",
       " [('has', 'VERB'), (('cultivated', 'X'), ('cultivated', 'VERB'))],\n",
       " [('a', 'DET'), (('much', 'ADJ'), ('much', 'ADV'))],\n",
       " [('much', 'ADV'), (('savvier', 'NOUN'), ('savvier', 'ADJ'))],\n",
       " [('unusually', 'ADV'), (('resilient', 'VERB'), ('resilient', 'ADJ'))],\n",
       " [('resilient', 'ADJ'), (('once', 'ADV'), ('once', 'ADP'))],\n",
       " [('even', 'ADV'), (('brief', 'VERB'), ('brief', 'ADJ'))],\n",
       " [('causing', 'VERB'), (('symptoms', 'X'), ('symptoms', 'NOUN'))],\n",
       " [('symptoms', 'NOUN'), (('that', 'ADP'), ('that', 'DET'))],\n",
       " [('show', 'VERB'), (('up', 'ADV'), ('up', 'PRT'))],\n",
       " [('create', 'VERB'), (('more', 'ADV'), ('more', 'ADJ'))],\n",
       " [('too', 'ADV'), (('low', 'ADJ'), ('low', 'ADV'))],\n",
       " [('most', 'ADJ'), (('practical', 'NOUN'), ('practical', 'ADJ'))],\n",
       " [('practical', 'ADJ'), (('uses', 'VERB'), ('uses', 'NOUN'))],\n",
       " [(\"'s\", 'PRT'), (('Big', 'NOUN'), ('Big', 'ADJ'))],\n",
       " [('who', 'PRON'), (('*T*-128', 'VERB'), ('*T*-128', 'X'))],\n",
       " [('who', 'PRON'), (('*T*-129', 'VERB'), ('*T*-129', 'X'))],\n",
       " [('the', 'DET'),\n",
       "  (('computer-generated', 'NOUN'), ('computer-generated', 'ADJ'))],\n",
       " [('by', 'ADP'), (('certified', 'DET'), ('certified', 'ADJ'))],\n",
       " [('the', 'DET'), (('delay', 'VERB'), ('delay', 'NOUN'))]]"
      ]
     },
     "execution_count": 291,
     "metadata": {},
     "output_type": "execute_result"
    }
   ],
   "source": [
    "# Words tagged incorrectly Mod 1\n",
    "incorrect_tagged_cases1 = [[test_run_base[i-1],j] for i, j in enumerate(zip(tagged_seq1, test_run_base)) if j[0]!=j[1]]\n",
    "incorrect_tagged_cases1"
   ]
  },
  {
   "cell_type": "code",
   "execution_count": 249,
   "metadata": {},
   "outputs": [
    {
     "name": "stdout",
     "output_type": "stream",
     "text": [
      "[('Android', 'NOUN'), ('is', 'VERB'), ('a', 'DET'), ('mobile', 'ADJ'), ('operating', 'NOUN'), ('system', 'NOUN'), ('developed', 'VERB'), ('by', 'ADP'), ('Google', 'DET'), ('.', '.'), ('Android', 'NOUN'), ('has', 'VERB'), ('been', 'VERB'), ('the', 'DET'), ('best-selling', 'ADJ'), ('OS', 'NOUN'), ('worldwide', 'NOUN'), ('on', 'ADP'), ('smartphones', 'DET'), ('since', 'ADP'), ('2011', 'DET'), ('and', 'CONJ'), ('on', 'ADP'), ('tablets', 'NOUN'), ('since', 'ADP'), ('2013', 'DET'), ('.', '.'), ('Google', 'NOUN'), ('and', 'CONJ'), ('Twitter', 'NOUN'), ('made', 'VERB'), ('a', 'DET'), ('deal', 'NOUN'), ('in', 'ADP'), ('2015', 'DET'), ('that', 'ADP'), ('gave', 'VERB'), ('Google', 'X'), ('access', 'NOUN'), ('to', 'PRT'), ('Twitter', 'VERB'), (\"'s\", 'PRT'), ('firehose', 'VERB'), ('.', '.'), ('Twitter', 'NOUN'), ('is', 'VERB'), ('an', 'DET'), ('online', 'NOUN'), ('news', 'NOUN'), ('and', 'CONJ'), ('social', 'ADJ'), ('networking', 'NOUN'), ('service', 'NOUN'), ('on', 'ADP'), ('which', 'DET'), ('users', 'NOUN'), ('post', 'NOUN'), ('and', 'CONJ'), ('interact', 'NOUN'), ('with', 'ADP'), ('messages', 'DET'), ('known', 'VERB'), ('as', 'ADP'), ('tweets', 'DET'), ('.', '.'), ('Before', 'ADP'), ('entering', 'VERB'), ('politics', 'NOUN'), (',', '.'), ('Donald', 'NOUN'), ('Trump', 'NOUN'), ('was', 'VERB'), ('a', 'DET'), ('domineering', 'NOUN'), ('businessman', 'NOUN'), ('and', 'CONJ'), ('a', 'DET'), ('television', 'NOUN'), ('personality', 'NOUN'), ('.', '.'), ('The', 'DET'), ('2018', 'NOUN'), ('FIFA', 'NOUN'), ('World', 'NOUN'), ('Cup', 'NOUN'), ('is', 'VERB'), ('the', 'DET'), ('21st', 'NOUN'), ('FIFA', 'NOUN'), ('World', 'NOUN'), ('Cup', 'NOUN'), (',', '.'), ('an', 'DET'), ('international', 'ADJ'), ('football', 'NOUN'), ('tournament', 'NOUN'), ('contested', 'NOUN'), ('once', 'ADV'), ('every', 'DET'), ('four', 'NUM'), ('years', 'NOUN'), ('.', '.'), ('This', 'DET'), ('is', 'VERB'), ('the', 'DET'), ('first', 'ADJ'), ('World', 'NOUN'), ('Cup', 'NOUN'), ('to', 'PRT'), ('be', 'VERB'), ('held', 'VERB'), ('in', 'ADP'), ('Eastern', 'NOUN'), ('Europe', 'NOUN'), ('and', 'CONJ'), ('the', 'DET'), ('11th', 'ADJ'), ('time', 'NOUN'), ('that', 'ADP'), ('it', 'PRON'), ('has', 'VERB'), ('been', 'VERB'), ('held', 'VERB'), ('in', 'ADP'), ('Europe', 'NOUN'), ('.', '.'), ('Show', 'NOUN'), ('me', 'PRON'), ('the', 'DET'), ('cheapest', 'ADJ'), ('round', 'NOUN'), ('trips', 'NOUN'), ('from', 'ADP'), ('Dallas', 'NOUN'), ('to', 'PRT'), ('Atlanta', 'NOUN'), ('I', 'PRON'), ('would', 'VERB'), ('like', 'ADP'), ('to', 'PRT'), ('see', 'VERB'), ('flights', 'NOUN'), ('from', 'ADP'), ('Denver', 'NOUN'), ('to', 'PRT'), ('Philadelphia', 'NOUN'), ('.', '.'), ('Show', 'NOUN'), ('me', 'PRON'), ('the', 'DET'), ('price', 'NOUN'), ('of', 'ADP'), ('the', 'DET'), ('flights', 'NOUN'), ('leaving', 'VERB'), ('Atlanta', 'NOUN'), ('at', 'ADP'), ('about', 'ADP'), ('3', 'NUM'), ('in', 'ADP'), ('the', 'DET'), ('afternoon', 'NOUN'), ('and', 'CONJ'), ('arriving', 'NOUN'), ('in', 'ADP'), ('San', 'NOUN'), ('Francisco', 'NOUN'), ('.', '.'), ('NASA', 'NOUN'), ('invited', 'NOUN'), ('social', 'ADJ'), ('media', 'NOUN'), ('users', 'NOUN'), ('to', 'PRT'), ('experience', 'NOUN'), ('the', 'DET'), ('launch', 'NOUN'), ('of', 'ADP'), ('ICESAT-2', 'DET'), ('Satellite', 'NOUN'), ('.', '.')]\n"
     ]
    }
   ],
   "source": [
    "## Testing\n",
    "start = time.time()\n",
    "tagged_seq_test1 = Viterbi_mod(test_instances)\n",
    "end = time.time()\n",
    "difference_test1 = end-start\n",
    "print(tagged_seq_test1)"
   ]
  },
  {
   "cell_type": "markdown",
   "metadata": {},
   "source": [
    "##### 3.2 Method 2 (Rule Bases Tagging)"
   ]
  },
  {
   "cell_type": "markdown",
   "metadata": {},
   "source": [
    "- For the words for which `emission_probability = 0`, implementing a Lexicon based tagger"
   ]
  },
  {
   "cell_type": "code",
   "execution_count": 250,
   "metadata": {},
   "outputs": [],
   "source": [
    "# importing RegEx library\n",
    "import re"
   ]
  },
  {
   "cell_type": "code",
   "execution_count": 251,
   "metadata": {},
   "outputs": [],
   "source": [
    "# Modified Viterbi Heuristic\n",
    "def Viterbi_mod2(words, train_bag = train_tagged_words):\n",
    "    state = []\n",
    "    T = list(set([pair[1] for pair in train_bag]))\n",
    "    \n",
    "    for key, word in enumerate(words):\n",
    "        #initialise list of probability column for a given observation\n",
    "        p = []\n",
    "        for tag in T:\n",
    "            if key == 0:\n",
    "                transition_p = tags_df.loc['.', tag]\n",
    "            else:\n",
    "                transition_p = tags_df.loc[state[-1], tag]\n",
    "                \n",
    "            # compute emission and state probabilities\n",
    "            emission_p = word_given_tag(words[key], tag)[0]/word_given_tag(words[key], tag)[1]\n",
    "            state_probability = emission_p * transition_p\n",
    "            p.append(state_probability)\n",
    "                \n",
    "        if max(p)==0:\n",
    "            \n",
    "            if re.search(r'.*ing$', words[key]):\n",
    "                state_max = 'VERB'\n",
    "            elif re.search(r'.*ed$', words[key]):\n",
    "                state_max = 'VERB'\n",
    "            elif re.search(r'.*es$', words[key]):\n",
    "                state_max = 'VERB'\n",
    "            elif re.search(r'.*ould$', words[key]):\n",
    "                state_max = 'VERB'\n",
    "            elif re.search(r'^-?[0-9]+(.[0-9]+)?$', words[key]):\n",
    "                state_max = 'NUM'\n",
    "            elif re.search(r'.*able$', words[key]):\n",
    "                state_max = 'ADJ'                   \n",
    "            elif re.search(r'.*ness$', words[key]):\n",
    "                state_max = 'NOUN'\n",
    "            elif re.search(r'.*ly$', words[key]):\n",
    "                state_max = 'NOUN'\n",
    "            elif re.search(r'.*\\'s$', words[key]):\n",
    "                state_max = 'NOUN'\n",
    "            elif re.search(r'.*s$', words[key]):\n",
    "                state_max = 'NOUN'\n",
    "            elif re.search(r'.*', words[key]):\n",
    "                state_max = 'NOUN'\n",
    "            \n",
    "\n",
    "        else:\n",
    "            pmax = max(p)\n",
    "            state_max = T[p.index(pmax)] \n",
    "        \n",
    "        # getting state for which probability is maximum     \n",
    "        state.append(state_max)          .\n",
    "    return list(zip(words, state))"
   ]
  },
  {
   "cell_type": "code",
   "execution_count": 254,
   "metadata": {},
   "outputs": [],
   "source": [
    "# tagging the test sentences Mod 2\n",
    "start = time.time()\n",
    "tagged_seq2 = Viterbi_mod2(test_tagged_words)\n",
    "end = time.time()\n",
    "difference2 = end-start"
   ]
  },
  {
   "cell_type": "code",
   "execution_count": 268,
   "metadata": {},
   "outputs": [
    {
     "data": {
      "text/plain": [
       "2299.583652973175"
      ]
     },
     "execution_count": 268,
     "metadata": {},
     "output_type": "execute_result"
    }
   ],
   "source": [
    "# time of execution Mod 2\n",
    "difference2"
   ]
  },
  {
   "cell_type": "markdown",
   "metadata": {},
   "source": [
    "##### 3.2.2 Evaluating tagging accuracy- Model 2"
   ]
  },
  {
   "cell_type": "code",
   "execution_count": 257,
   "metadata": {},
   "outputs": [
    {
     "data": {
      "text/plain": [
       "0.9425043411151842"
      ]
     },
     "execution_count": 257,
     "metadata": {},
     "output_type": "execute_result"
    }
   ],
   "source": [
    "# accuracy for modified Viterbi (2)\n",
    "check = [i for i, j in zip(tagged_seq2, test_run_base) if i == j] \n",
    "accuracy2 = len(check)/len(tagged_seq2)\n",
    "accuracy2"
   ]
  },
  {
   "cell_type": "code",
   "execution_count": 292,
   "metadata": {},
   "outputs": [
    {
     "data": {
      "text/plain": [
       "[[('they', 'PRON'), (('own', 'ADJ'), ('own', 'VERB'))],\n",
       " [('A', 'DET'), (('high-balance', 'NOUN'), ('high-balance', 'ADJ'))],\n",
       " [('banks', 'NOUN'), (('pine', 'NOUN'), ('pine', 'VERB'))],\n",
       " [('pine', 'VERB'), (('for', 'ADP'), ('for', 'PRT'))],\n",
       " [('give', 'VERB'), (('much', 'ADV'), ('much', 'ADJ'))],\n",
       " [('much', 'ADJ'), (('thought', 'VERB'), ('thought', 'NOUN'))],\n",
       " [(\"n't\", 'ADV'), (('forgotten', 'NOUN'), ('forgotten', 'VERB'))],\n",
       " [('of', 'ADP'), (('foreign-led', 'VERB'), ('foreign-led', 'ADJ'))],\n",
       " [('stocks', 'NOUN'), (('skyward', 'NOUN'), ('skyward', 'ADV'))],\n",
       " [('last', 'ADJ'), (('half-hour', 'NOUN'), ('half-hour', 'ADJ'))],\n",
       " [('who', 'PRON'), (('*T*-254', 'NOUN'), ('*T*-254', 'X'))],\n",
       " [('written', 'VERB'), (('enough', 'ADV'), ('enough', 'ADJ'))],\n",
       " [('prevent', 'VERB'), (('such', 'ADJ'), ('such', 'DET'))],\n",
       " [('A', 'DET'), (('disaffected', 'VERB'), ('disaffected', 'ADJ'))],\n",
       " [(',', '.'), (('hard-drinking', 'VERB'), ('hard-drinking', 'ADJ'))],\n",
       " [(',', '.'), (('nearly-30', 'NOUN'), ('nearly-30', 'ADJ'))],\n",
       " [('hero', 'NOUN'), (('sets', 'NOUN'), ('sets', 'VERB'))],\n",
       " [('an', 'DET'), (('elusive', 'NOUN'), ('elusive', 'ADJ'))],\n",
       " [('its', 'PRON'), (('back', 'ADV'), ('back', 'NOUN'))],\n",
       " [('a', 'DET'), (('sinister', 'NOUN'), ('sinister', 'ADJ'))],\n",
       " [(',', '.'), (('erudite', 'NOUN'), ('erudite', 'ADJ'))],\n",
       " [('system', 'NOUN'), (('that', 'ADP'), ('that', 'DET'))],\n",
       " [('the', 'DET'), (('smallest', 'NOUN'), ('smallest', 'ADJ'))],\n",
       " [('which', 'DET'), (('*T*-162', 'NOUN'), ('*T*-162', 'X'))],\n",
       " [('*T*-162', 'X'), (('costs', 'NOUN'), ('costs', 'VERB'))],\n",
       " [('costs', 'VERB'), (('around', 'ADP'), ('around', 'ADV'))],\n",
       " [('diaper', 'NOUN'), (('covers', 'VERB'), ('covers', 'NOUN'))],\n",
       " [('fasteners', 'NOUN'), (('that', 'ADP'), ('that', 'DET'))],\n",
       " [('safety', 'NOUN'), (('pins', 'VERB'), ('pins', 'NOUN'))],\n",
       " [('which', 'DET'), (('*T*-212', 'NOUN'), ('*T*-212', 'X'))],\n",
       " [('maximum', 'NOUN'), (('one-day', 'NOUN'), ('one-day', 'ADJ'))],\n",
       " [('500', 'NUM'), (('stock-index', 'NOUN'), ('stock-index', 'ADJ'))],\n",
       " [('the', 'DET'), (('one-day', 'NOUN'), ('one-day', 'ADJ'))],\n",
       " [('Class', 'NOUN'), (('A', 'DET'), ('A', 'NOUN'))],\n",
       " [('their', 'PRON'), (('52-week', 'NOUN'), ('52-week', 'ADJ'))],\n",
       " [('52-week', 'ADJ'), (('high', 'ADJ'), ('high', 'NOUN'))],\n",
       " [('battle', 'NOUN'), (('opens', 'NOUN'), ('opens', 'VERB'))],\n",
       " [('0', 'X'), (('that', 'ADP'), ('that', 'DET'))],\n",
       " [('audience', 'NOUN'), (('that', 'ADP'), ('that', 'DET'))],\n",
       " [('that', 'DET'), (('*T*-204', 'NOUN'), ('*T*-204', 'X'))],\n",
       " [('legislation', 'NOUN'), (('that', 'ADP'), ('that', 'DET'))],\n",
       " [('finished', 'VERB'), (('less', 'ADV'), ('less', 'ADJ'))],\n",
       " [('point', 'NOUN'), (('higher', 'ADJ'), ('higher', 'ADV'))],\n",
       " [('moderate', 'ADJ'), (('trading', 'NOUN'), ('trading', 'VERB'))],\n",
       " [('the', 'DET'), (('Dutch', 'ADJ'), ('Dutch', 'NOUN'))],\n",
       " [('Dutch', 'NOUN'), (('publishing', 'NOUN'), ('publishing', 'VERB'))],\n",
       " [('was', 'VERB'), (('down', 'ADV'), ('down', 'ADP'))],\n",
       " [('a', 'DET'), (('confused', 'VERB'), ('confused', 'ADJ'))],\n",
       " [('confused', 'ADJ'), (('rendering', 'VERB'), ('rendering', 'NOUN'))],\n",
       " [('Carlos', 'NOUN'), (('Fuentes', 'VERB'), ('Fuentes', 'NOUN'))],\n",
       " [('stepped', 'VERB'), (('up', 'ADV'), ('up', 'PRT'))],\n",
       " [('left', 'VERB'), (('*-74', 'NOUN'), ('*-74', 'X'))],\n",
       " [('his', 'PRON'), (('stable', 'ADJ'), ('stable', 'NOUN'))],\n",
       " [('test', 'NOUN'), (('so', 'ADV'), ('so', 'ADP'))],\n",
       " [('it', 'PRON'), (('resists', 'NOUN'), ('resists', 'VERB'))],\n",
       " [('the', 'DET'), (('buy-back', 'ADJ'), ('buy-back', 'NOUN'))],\n",
       " [('in', 'ADP'), (('East', 'NOUN'), ('East', 'ADJ'))],\n",
       " [('*T*-1', 'X'), (('Miles', 'VERB'), ('Miles', 'NOUN'))],\n",
       " [('concession', 'NOUN'), (('stands', 'VERB'), ('stands', 'NOUN'))],\n",
       " [('the', 'DET'), (('plastic', 'NOUN'), ('plastic', 'ADJ'))],\n",
       " [('pick', 'VERB'), (('up', 'ADV'), ('up', 'PRT'))],\n",
       " [('the', 'DET'), (('slack', 'ADJ'), ('slack', 'NOUN'))],\n",
       " [('The', 'DET'), (('American', 'ADJ'), ('American', 'NOUN'))],\n",
       " [('.', '.'), (('Almost', 'NOUN'), ('Almost', 'ADV'))],\n",
       " [('he', 'PRON'), (('invariably', 'NOUN'), ('invariably', 'ADV'))],\n",
       " [('a', 'DET'), (('training-wage', 'NOUN'), ('training-wage', 'ADJ'))],\n",
       " [('and', 'CONJ'), (('diming', 'VERB'), ('diming', 'NOUN'))],\n",
       " [('to', 'PRT'), (('institute', 'NOUN'), ('institute', 'VERB'))],\n",
       " [('market', 'NOUN'), (('slides', 'VERB'), ('slides', 'NOUN'))],\n",
       " [('also', 'ADV'), (('empowers', 'NOUN'), ('empowers', 'VERB'))],\n",
       " [('fill', 'VERB'), (('up', 'ADV'), ('up', 'PRT'))],\n",
       " [('all', 'DET'), (('Vacancies', 'VERB'), ('Vacancies', 'NOUN'))],\n",
       " [('Vacancies', 'NOUN'), (('that', 'ADP'), ('that', 'DET'))],\n",
       " [('the', 'DET'), (('American', 'ADJ'), ('American', 'NOUN'))],\n",
       " [('upon', 'ADP'), (('billing', 'VERB'), ('billing', 'NOUN'))],\n",
       " [(',', '.'), (('portray', 'NOUN'), ('portray', 'VERB'))],\n",
       " [('portray', 'VERB'), (('old-fashioned', 'VERB'), ('old-fashioned', 'ADJ'))],\n",
       " [('*T*-1', 'X'), (('causes', 'NOUN'), ('causes', 'VERB'))],\n",
       " [('a', 'DET'), (('buy', 'VERB'), ('buy', 'NOUN'))],\n",
       " [('or', 'CONJ'), (('sell', 'VERB'), ('sell', 'NOUN'))],\n",
       " [('his', 'PRON'), (('finest', 'NOUN'), ('finest', 'ADJ'))],\n",
       " [('no', 'DET'), (('crack', 'VERB'), ('crack', 'NOUN'))],\n",
       " [('no', 'DET'), (('dead-eyed', 'VERB'), ('dead-eyed', 'ADJ'))],\n",
       " [('selling', 'VERB'), (('four-year-old', 'NOUN'), ('four-year-old', 'ADJ'))],\n",
       " [('no', 'DET'), (('one', 'NUM'), ('one', 'PRON'))],\n",
       " [('curled', 'VERB'), (('up', 'ADV'), ('up', 'PRT'))],\n",
       " [('Cataracts', 'NOUN'), (('refer', 'NOUN'), ('refer', 'VERB'))],\n",
       " [('a', 'DET'), (('clouding', 'VERB'), ('clouding', 'NOUN'))],\n",
       " [('to', 'PRT'), (('offend', 'NOUN'), ('offend', 'VERB'))],\n",
       " [(\"''\", '.'), (('Four', 'NOUN'), ('Four', 'NUM'))],\n",
       " [('``', '.'), (('Strategic', 'NOUN'), ('Strategic', 'ADJ'))],\n",
       " [('for', 'ADP'), (('as', 'ADP'), ('as', 'ADV'))],\n",
       " [('the', 'DET'), (('sterling', 'VERB'), ('sterling', 'NOUN'))],\n",
       " [('``', '.'), (('Particularly', 'NOUN'), ('Particularly', 'ADV'))],\n",
       " [('Particularly', 'ADV'), (('flagrant', 'NOUN'), ('flagrant', 'ADJ'))],\n",
       " [('to', 'PRT'), (('properly', 'NOUN'), ('properly', 'ADV'))],\n",
       " [('properly', 'ADV'), (('record', 'NOUN'), ('record', 'VERB'))],\n",
       " [('the', 'DET'), (('firm', 'NOUN'), ('firm', 'ADJ'))],\n",
       " [('earlier', 'ADJ'), (('corporate-wide', 'NOUN'), ('corporate-wide', 'ADJ'))],\n",
       " [('to', 'PRT'), (('correct', 'ADJ'), ('correct', 'VERB'))],\n",
       " [('His', 'PRON'), (('longer', 'ADV'), ('longer', 'ADJ'))],\n",
       " [('of', 'ADP'), (('executive', 'NOUN'), ('executive', 'ADJ'))],\n",
       " [('``', '.'), (('The', 'DET'), ('The', 'NOUN'))],\n",
       " [('visiting', 'VERB'), (('about', 'ADP'), ('about', 'ADV'))],\n",
       " [('signboards', 'NOUN'), (('advertising', 'NOUN'), ('advertising', 'VERB'))],\n",
       " [('failed', 'VERB'),\n",
       "  (('labor-management', 'NOUN'), ('labor-management', 'ADJ'))],\n",
       " [('can', 'VERB'), (('defeat', 'NOUN'), ('defeat', 'VERB'))],\n",
       " [('which', 'DET'), (('*T*-104', 'NOUN'), ('*T*-104', 'X'))],\n",
       " [('gauge', 'VERB'), (('learning', 'VERB'), ('learning', 'NOUN'))],\n",
       " [('his', 'PRON'), (('only', 'ADV'), ('only', 'ADJ'))],\n",
       " [('only', 'ADJ'), (('means', 'VERB'), ('means', 'NOUN'))],\n",
       " [('or', 'CONJ'), (('early', 'ADJ'), ('early', 'ADV'))],\n",
       " [(',', '.'), (('executive', 'NOUN'), ('executive', 'ADJ'))],\n",
       " [(',', '.'), (('as', 'ADP'), ('as', 'ADV'))],\n",
       " [('0', 'X'), (('greedy', 'NOUN'), ('greedy', 'ADJ'))],\n",
       " [('a', 'DET'), (('shambles', 'VERB'), ('shambles', 'NOUN'))],\n",
       " [('big', 'ADJ'), (('gambling', 'VERB'), ('gambling', 'NOUN'))],\n",
       " [(',', '.'), (('comments', 'NOUN'), ('comments', 'VERB'))],\n",
       " [('``', '.'), (('increases', 'NOUN'), ('increases', 'VERB'))],\n",
       " [('will', 'VERB'), (('likely', 'ADJ'), ('likely', 'ADV'))],\n",
       " [('likely', 'ADV'), (('trim', 'NOUN'), ('trim', 'VERB'))],\n",
       " [('the', 'DET'), (('anti-program', 'NOUN'), ('anti-program', 'ADJ'))],\n",
       " [('trading', 'NOUN'), (('cause', 'VERB'), ('cause', 'NOUN'))],\n",
       " [('``', '.'), (('countless', 'NOUN'), ('countless', 'ADJ'))],\n",
       " [('letters', 'NOUN'), (('offering', 'NOUN'), ('offering', 'VERB'))],\n",
       " [('offering', 'VERB'), (('support', 'VERB'), ('support', 'NOUN'))],\n",
       " [('of', 'ADP'), (('frantic', 'NOUN'), ('frantic', 'ADJ'))],\n",
       " [('of', 'ADP'),\n",
       "  (('revenue-desperate', 'NOUN'), ('revenue-desperate', 'ADJ'))],\n",
       " [('revenue-desperate', 'ADJ'),\n",
       "  (('magazines', 'VERB'), ('magazines', 'NOUN'))],\n",
       " [('pretty', 'ADV'), (('cozy', 'NOUN'), ('cozy', 'ADJ'))],\n",
       " [('in', 'ADP'), (('articles', 'VERB'), ('articles', 'NOUN'))],\n",
       " [('and', 'CONJ'), (('offering', 'NOUN'), ('offering', 'VERB'))],\n",
       " [('of', 'ADP'), (('advertorial', 'NOUN'), ('advertorial', 'ADJ'))],\n",
       " [('in', 'ADP'), (('excess', 'ADJ'), ('excess', 'NOUN'))],\n",
       " [('in', 'ADP'), (('public', 'ADJ'), ('public', 'NOUN'))],\n",
       " [('so', 'ADV'), (('little', 'ADJ'), ('little', 'ADV'))],\n",
       " [('little', 'ADV'), (('sensitive', 'NOUN'), ('sensitive', 'ADJ'))],\n",
       " [('disclosed', 'VERB'), (('*-132', 'NOUN'), ('*-132', 'X'))],\n",
       " [('needed', 'VERB'), (('*-126', 'NOUN'), ('*-126', 'X'))],\n",
       " [('the', 'DET'), (('tumultuous', 'NOUN'), ('tumultuous', 'ADJ'))],\n",
       " [('tumultuous', 'ADJ'), (('trading', 'NOUN'), ('trading', 'VERB'))],\n",
       " [('and', 'CONJ'), (('stock-index', 'NOUN'), ('stock-index', 'ADJ'))],\n",
       " [('and', 'CONJ'), (('stock-index', 'NOUN'), ('stock-index', 'ADJ'))],\n",
       " [('skidded', 'VERB'), (('as', 'ADP'), ('as', 'ADV'))],\n",
       " [(',', '.'), (('operating', 'NOUN'), ('operating', 'VERB'))],\n",
       " [('of', 'ADP'), (('change-ringing', 'VERB'), ('change-ringing', 'NOUN'))],\n",
       " [('is', 'VERB'), (('peculiar', 'NOUN'), ('peculiar', 'ADJ'))],\n",
       " [('most', 'ADJ'), (('English', 'NOUN'), ('English', 'ADJ'))],\n",
       " [('English', 'ADJ'), (('peculiarities', 'VERB'), ('peculiarities', 'NOUN'))],\n",
       " [(',', '.'), (('unintelligible', 'NOUN'), ('unintelligible', 'ADJ'))],\n",
       " [('--', '.'), (('and', 'CONJ'), ('and', 'ADJ'))],\n",
       " [('launch-vehicle', 'NOUN'), (('engines', 'VERB'), ('engines', 'NOUN'))],\n",
       " [('disclosed', 'VERB'), (('*-93', 'NOUN'), ('*-93', 'X'))],\n",
       " [('its', 'PRON'), (('longstanding', 'VERB'), ('longstanding', 'ADJ'))],\n",
       " [('largely', 'ADV'), (('anecdotal', 'NOUN'), ('anecdotal', 'ADJ'))],\n",
       " [(',', '.'), (('net', 'ADJ'), ('net', 'NOUN'))],\n",
       " [('market', 'NOUN'), (('crises', 'VERB'), ('crises', 'NOUN'))],\n",
       " [('recent', 'ADJ'), (('public', 'NOUN'), ('public', 'ADJ'))],\n",
       " [('at', 'ADP'), (('more', 'ADJ'), ('more', 'ADV'))],\n",
       " [('years', 'NOUN'), (('ago', 'ADP'), ('ago', 'ADV'))],\n",
       " [('a', 'DET'), (('tasty', 'NOUN'), ('tasty', 'ADJ'))],\n",
       " [('they', 'PRON'), (('eat', 'NOUN'), ('eat', 'VERB'))],\n",
       " [('a', 'DET'), (('standing', 'NOUN'), ('standing', 'ADJ'))],\n",
       " [('building', 'VERB'), (('up', 'ADV'), ('up', 'PRT'))],\n",
       " [('company', 'NOUN'), (('while', 'ADP'), ('while', 'NOUN'))],\n",
       " [('*-1', 'X'), (('refocusing', 'VERB'), ('refocusing', 'NOUN'))],\n",
       " [('refocusing', 'NOUN'), (('building', 'VERB'), ('building', 'NOUN'))],\n",
       " [('and', 'CONJ'), (('remodeling', 'VERB'), ('remodeling', 'NOUN'))],\n",
       " [('having', 'VERB'), (('extramarital', 'NOUN'), ('extramarital', 'ADJ'))],\n",
       " [('--', '.'), (('are', 'VERB'), ('are', 'ADP'))],\n",
       " [('who', 'PRON'), (('*T*-95', 'NOUN'), ('*T*-95', 'X'))],\n",
       " [('Big', 'NOUN'), (('Three', 'NUM'), ('Three', 'NOUN'))],\n",
       " [('.', '.'), (('New', 'NOUN'), ('New', 'ADJ'))],\n",
       " [('rules', 'NOUN'), (('force', 'NOUN'), ('force', 'VERB'))],\n",
       " [('write', 'VERB'), (('down', 'ADV'), ('down', 'PRT'))],\n",
       " [('of', 'ADP'), (('major-league', 'NOUN'), ('major-league', 'ADJ'))],\n",
       " [('dividend', 'NOUN'), (('yield', 'VERB'), ('yield', 'NOUN'))],\n",
       " [('level', 'NOUN'), (('that', 'ADP'), ('that', 'DET'))],\n",
       " [('that', 'DET'), (('*T*-232', 'NOUN'), ('*T*-232', 'X'))],\n",
       " [('and', 'CONJ'), (('unenticing', 'VERB'), ('unenticing', 'ADJ'))],\n",
       " [('alleged', 'ADJ'), (('improper', 'NOUN'), ('improper', 'ADJ'))],\n",
       " [('improper', 'ADJ'), (('use', 'VERB'), ('use', 'NOUN'))],\n",
       " [('of', 'ADP'), (('All', 'DET'), ('All', 'NOUN'))],\n",
       " [('shares', 'NOUN'), (('*T*-121', 'NOUN'), ('*T*-121', 'X'))],\n",
       " [('*T*-121', 'X'), (('trade', 'NOUN'), ('trade', 'VERB'))],\n",
       " [('followed', 'VERB'), (('year-to-year', 'NOUN'), ('year-to-year', 'ADJ'))],\n",
       " [('an', 'DET'), (('early-retirement', 'NOUN'), ('early-retirement', 'ADJ'))],\n",
       " [('Congress', 'NOUN'), (('repeals', 'NOUN'), ('repeals', 'VERB'))],\n",
       " [('highly', 'ADV'), (('detailed', 'ADJ'), ('detailed', 'VERB'))],\n",
       " [('a', 'DET'), (('reassuring', 'VERB'), ('reassuring', 'ADJ'))],\n",
       " [('reassuring', 'ADJ'), (('note', 'VERB'), ('note', 'NOUN'))],\n",
       " [('large', 'ADJ'), (('integrated', 'ADJ'), ('integrated', 'VERB'))],\n",
       " [('%', 'NOUN'), (('unconsolidated', 'VERB'), ('unconsolidated', 'ADJ'))],\n",
       " [('which', 'DET'), (('*T*-88', 'NOUN'), ('*T*-88', 'X'))],\n",
       " [('ushered', 'VERB'), (('in', 'ADP'), ('in', 'PRT'))],\n",
       " [('new', 'ADJ'), (('public', 'NOUN'), ('public', 'ADJ'))],\n",
       " [('No', 'DET'), (('dummies', 'VERB'), ('dummies', 'NOUN'))],\n",
       " [('will', 'VERB'), (('end', 'NOUN'), ('end', 'VERB'))],\n",
       " [('to', 'PRT'), (('sacrifice', 'NOUN'), ('sacrifice', 'VERB'))],\n",
       " [('when', 'ADV'), (('trading', 'VERB'), ('trading', 'NOUN'))],\n",
       " [('futures', 'NOUN'), (('fall', 'NOUN'), ('fall', 'VERB'))],\n",
       " [(\"'s\", 'PRT'), (('close', 'VERB'), ('close', 'NOUN'))],\n",
       " [('trading', 'NOUN'), (('halt', 'VERB'), ('halt', 'NOUN'))],\n",
       " [('eye', 'NOUN'), (('care', 'VERB'), ('care', 'NOUN'))],\n",
       " [('skin', 'NOUN'), (('care', 'VERB'), ('care', 'NOUN'))],\n",
       " [('of', 'ADP'), (('current', 'ADJ'), ('current', 'NOUN'))],\n",
       " [('producing', 'VERB'), (('more', 'ADV'), ('more', 'ADJ'))],\n",
       " [('a', 'DET'), (('more', 'ADJ'), ('more', 'ADV'))],\n",
       " [('more', 'ADV'), (('drastic', 'NOUN'), ('drastic', 'ADJ'))],\n",
       " [('set', 'VERB'), (('up', 'ADV'), ('up', 'PRT'))],\n",
       " [('to', 'PRT'), (('limit', 'NOUN'), ('limit', 'VERB'))],\n",
       " [('how', 'ADV'), (('far', 'ADV'), ('far', 'ADJ'))],\n",
       " [('questions', 'NOUN'), (('range', 'NOUN'), ('range', 'VERB'))],\n",
       " [('Cruise', 'NOUN'), (('missiles', 'VERB'), ('missiles', 'NOUN'))],\n",
       " [('other', 'ADJ'), (('unexpected', 'VERB'), ('unexpected', 'ADJ'))],\n",
       " [('to', 'PRT'), (('report', 'NOUN'), ('report', 'VERB'))],\n",
       " [('the', 'DET'), (('right', 'NOUN'), ('right', 'ADJ'))],\n",
       " [('so', 'ADV'), (('broadly', 'NOUN'), ('broadly', 'ADV'))],\n",
       " [('would', 'VERB'), (('emasculate', 'NOUN'), ('emasculate', 'VERB'))],\n",
       " [('and', 'CONJ'), (('swallow', 'NOUN'), ('swallow', 'VERB'))],\n",
       " [('The', 'DET'), (('following', 'NOUN'), ('following', 'VERB'))],\n",
       " [('England', 'NOUN'), (('steadily', 'NOUN'), ('steadily', 'ADV'))],\n",
       " [(',', '.'), (('strong-willed', 'VERB'), ('strong-willed', 'ADJ'))],\n",
       " [('equally', 'ADV'), (('strong-willed', 'VERB'), ('strong-willed', 'ADJ'))],\n",
       " [('often', 'ADV'), (('non-religious', 'NOUN'), ('non-religious', 'ADJ'))],\n",
       " [('power', 'NOUN'), (('supplies', 'VERB'), ('supplies', 'NOUN'))],\n",
       " [('and', 'CONJ'), (('plastic', 'NOUN'), ('plastic', 'ADJ'))],\n",
       " [('under', 'ADP'), (('generic', 'NOUN'), ('generic', 'ADJ'))],\n",
       " [('a', 'DET'), (('civil', 'NOUN'), ('civil', 'ADJ'))],\n",
       " [('adds', 'VERB'), (('up', 'ADV'), ('up', 'PRT'))],\n",
       " [('to', 'PRT'), (('American-style', 'NOUN'), ('American-style', 'ADJ'))],\n",
       " [('the', 'DET'), (('most', 'ADJ'), ('most', 'ADV'))],\n",
       " [('trading', 'NOUN'), (('that', 'ADP'), ('that', 'DET'))],\n",
       " [('that', 'DET'), (('*T*-253', 'NOUN'), ('*T*-253', 'X'))],\n",
       " [('to', 'PRT'), (('exploit', 'NOUN'), ('exploit', 'VERB'))],\n",
       " [('exploit', 'VERB'), (('brief', 'VERB'), ('brief', 'ADJ'))],\n",
       " [('such', 'ADJ'), (('lawmaking', 'VERB'), ('lawmaking', 'ADJ'))],\n",
       " [('*EXP*-1', 'X'), ((\"'s\", 'PRT'), (\"'s\", 'VERB'))],\n",
       " [('something', 'NOUN'), (('that', 'ADP'), ('that', 'ADV'))],\n",
       " [('that', 'ADV'), (('comprehensive', 'NOUN'), ('comprehensive', 'ADJ'))],\n",
       " [('*T*-1', 'X'), ((\"'s\", 'PRT'), (\"'s\", 'VERB'))],\n",
       " [('raise', 'VERB'), (('about', 'ADP'), ('about', 'ADV'))],\n",
       " [('declared', 'VERB'), (('*-103', 'NOUN'), ('*-103', 'X'))],\n",
       " [('*-2', 'X'), (('mailing', 'NOUN'), ('mailing', 'VERB'))],\n",
       " [('to', 'PRT'), (('speak', 'NOUN'), ('speak', 'VERB'))],\n",
       " [('at', 'ADP'), (('theological', 'NOUN'), ('theological', 'ADJ'))],\n",
       " [('theological', 'ADJ'), (('colleges', 'VERB'), ('colleges', 'NOUN'))],\n",
       " [('bell', 'NOUN'), (('ringing', 'VERB'), ('ringing', 'NOUN'))],\n",
       " [('will', 'VERB'), (('control', 'NOUN'), ('control', 'VERB'))],\n",
       " [('control', 'VERB'), (('that', 'ADP'), ('that', 'DET'))],\n",
       " [('and', 'CONJ'), (('reap', 'NOUN'), ('reap', 'VERB'))],\n",
       " [('The', 'DET'), (('Soviet', 'ADJ'), ('Soviet', 'NOUN'))],\n",
       " [('wants', 'VERB'), (('much', 'ADV'), ('much', 'ADJ'))],\n",
       " [('may', 'VERB'), (('drop', 'NOUN'), ('drop', 'VERB'))],\n",
       " [('tune', 'VERB'), (('in', 'ADP'), ('in', 'PRT'))],\n",
       " [('print', 'VERB'), (('hither', 'NOUN'), ('hither', 'ADV'))],\n",
       " [('to', 'PRT'), (('yon', 'NOUN'), ('yon', 'ADV'))],\n",
       " [('*U*', 'X'), (('face', 'VERB'), ('face', 'NOUN'))],\n",
       " [('year', 'NOUN'), (('earlier', 'ADV'), ('earlier', 'ADJ'))],\n",
       " [('The', 'DET'), (('Chinese', 'ADJ'), ('Chinese', 'NOUN'))],\n",
       " [('equally', 'ADV'), (('undiplomatic', 'NOUN'), ('undiplomatic', 'ADJ'))],\n",
       " [('to', 'PRT'), (('cure', 'NOUN'), ('cure', 'VERB'))],\n",
       " [('a', 'DET'), (('two-year-old', 'NOUN'), ('two-year-old', 'ADJ'))],\n",
       " [('murdered', 'VERB'), (('*-74', 'NOUN'), ('*-74', 'X'))],\n",
       " [('the', 'DET'), (('limited', 'ADJ'), ('limited', 'VERB'))],\n",
       " [('the', 'DET'), ((\"'40s\", 'NOUN'), (\"'40s\", 'NUM'))],\n",
       " [('and', 'CONJ'), ((\"'50s\", 'NOUN'), (\"'50s\", 'NUM'))],\n",
       " [('which', 'DET'), (('*T*-165', 'NOUN'), ('*T*-165', 'X'))],\n",
       " [('breakers', 'NOUN'), (('that', 'ADP'), ('that', 'DET'))],\n",
       " [('that', 'DET'), (('*T*-215', 'NOUN'), ('*T*-215', 'X'))],\n",
       " [('``', '.'), (('one-yen', 'NOUN'), ('one-yen', 'ADJ'))],\n",
       " [('controversy', 'NOUN'), (('first', 'ADJ'), ('first', 'ADV'))],\n",
       " [('to', 'PRT'), (('design', 'NOUN'), ('design', 'VERB'))],\n",
       " [('to', 'PRT'), (('map', 'NOUN'), ('map', 'VERB'))],\n",
       " [('voters', 'NOUN'), (('disapprove', 'NOUN'), ('disapprove', 'VERB'))],\n",
       " [('stand', 'VERB'), (('up', 'ADV'), ('up', 'PRT'))],\n",
       " [('pay', 'VERB'), (('about', 'ADP'), ('about', 'ADV'))],\n",
       " [('for', 'ADP'), (('free', 'ADJ'), ('free', 'ADV'))],\n",
       " [('a', 'DET'), (('much', 'ADJ'), ('much', 'ADV'))],\n",
       " [('much', 'ADV'), (('savvier', 'NOUN'), ('savvier', 'ADJ'))],\n",
       " [('unusually', 'ADV'), (('resilient', 'NOUN'), ('resilient', 'ADJ'))],\n",
       " [('resilient', 'ADJ'), (('once', 'ADV'), ('once', 'ADP'))],\n",
       " [('even', 'ADV'), (('brief', 'VERB'), ('brief', 'ADJ'))],\n",
       " [('symptoms', 'NOUN'), (('that', 'ADP'), ('that', 'DET'))],\n",
       " [('show', 'VERB'), (('up', 'ADV'), ('up', 'PRT'))],\n",
       " [('to', 'PRT'), (('redistribute', 'NOUN'), ('redistribute', 'VERB'))],\n",
       " [('create', 'VERB'), (('more', 'ADV'), ('more', 'ADJ'))],\n",
       " [('expected', 'VERB'), (('*-129', 'NOUN'), ('*-129', 'X'))],\n",
       " [('too', 'ADV'), (('low', 'ADJ'), ('low', 'ADV'))],\n",
       " [('most', 'ADJ'), (('practical', 'NOUN'), ('practical', 'ADJ'))],\n",
       " [('practical', 'ADJ'), (('uses', 'VERB'), ('uses', 'NOUN'))],\n",
       " [(\"'s\", 'PRT'), (('Big', 'NOUN'), ('Big', 'ADJ'))],\n",
       " [('to', 'PRT'), (('red-flag', 'NOUN'), ('red-flag', 'VERB'))],\n",
       " [('who', 'PRON'), (('*T*-128', 'NOUN'), ('*T*-128', 'X'))],\n",
       " [('who', 'PRON'), (('*T*-129', 'NOUN'), ('*T*-129', 'X'))],\n",
       " [('the', 'DET'),\n",
       "  (('computer-generated', 'VERB'), ('computer-generated', 'ADJ'))],\n",
       " [('by', 'ADP'), (('certified', 'VERB'), ('certified', 'ADJ'))],\n",
       " [('the', 'DET'), (('delay', 'VERB'), ('delay', 'NOUN'))]]"
      ]
     },
     "execution_count": 292,
     "metadata": {},
     "output_type": "execute_result"
    }
   ],
   "source": [
    "# Words tagged incorrectly for modified Viterbi (2)\n",
    "incorrect_tagged_cases2 = [[test_run_base[i-1],j] for i, j in enumerate(zip(tagged_seq2, test_run_base)) if j[0]!=j[1]]\n",
    "incorrect_tagged_cases2"
   ]
  },
  {
   "cell_type": "code",
   "execution_count": 259,
   "metadata": {},
   "outputs": [
    {
     "name": "stdout",
     "output_type": "stream",
     "text": [
      "[('Android', 'NOUN'), ('is', 'VERB'), ('a', 'DET'), ('mobile', 'ADJ'), ('operating', 'NOUN'), ('system', 'NOUN'), ('developed', 'VERB'), ('by', 'ADP'), ('Google', 'NOUN'), ('.', '.'), ('Android', 'NOUN'), ('has', 'VERB'), ('been', 'VERB'), ('the', 'DET'), ('best-selling', 'ADJ'), ('OS', 'NOUN'), ('worldwide', 'NOUN'), ('on', 'ADP'), ('smartphones', 'VERB'), ('since', 'ADP'), ('2011', 'NUM'), ('and', 'CONJ'), ('on', 'ADP'), ('tablets', 'NOUN'), ('since', 'ADP'), ('2013', 'NUM'), ('.', '.'), ('Google', 'NOUN'), ('and', 'CONJ'), ('Twitter', 'NOUN'), ('made', 'VERB'), ('a', 'DET'), ('deal', 'NOUN'), ('in', 'ADP'), ('2015', 'NUM'), ('that', 'ADP'), ('gave', 'VERB'), ('Google', 'NOUN'), ('access', 'NOUN'), ('to', 'PRT'), ('Twitter', 'NOUN'), (\"'s\", 'PRT'), ('firehose', 'NOUN'), ('.', '.'), ('Twitter', 'NOUN'), ('is', 'VERB'), ('an', 'DET'), ('online', 'NOUN'), ('news', 'NOUN'), ('and', 'CONJ'), ('social', 'ADJ'), ('networking', 'NOUN'), ('service', 'NOUN'), ('on', 'ADP'), ('which', 'DET'), ('users', 'NOUN'), ('post', 'NOUN'), ('and', 'CONJ'), ('interact', 'NOUN'), ('with', 'ADP'), ('messages', 'VERB'), ('known', 'VERB'), ('as', 'ADP'), ('tweets', 'NOUN'), ('.', '.'), ('Before', 'ADP'), ('entering', 'VERB'), ('politics', 'NOUN'), (',', '.'), ('Donald', 'NOUN'), ('Trump', 'NOUN'), ('was', 'VERB'), ('a', 'DET'), ('domineering', 'VERB'), ('businessman', 'NOUN'), ('and', 'CONJ'), ('a', 'DET'), ('television', 'NOUN'), ('personality', 'NOUN'), ('.', '.'), ('The', 'DET'), ('2018', 'NUM'), ('FIFA', 'NOUN'), ('World', 'NOUN'), ('Cup', 'NOUN'), ('is', 'VERB'), ('the', 'DET'), ('21st', 'NOUN'), ('FIFA', 'NOUN'), ('World', 'NOUN'), ('Cup', 'NOUN'), (',', '.'), ('an', 'DET'), ('international', 'ADJ'), ('football', 'NOUN'), ('tournament', 'NOUN'), ('contested', 'VERB'), ('once', 'ADV'), ('every', 'DET'), ('four', 'NUM'), ('years', 'NOUN'), ('.', '.'), ('This', 'DET'), ('is', 'VERB'), ('the', 'DET'), ('first', 'ADJ'), ('World', 'NOUN'), ('Cup', 'NOUN'), ('to', 'PRT'), ('be', 'VERB'), ('held', 'VERB'), ('in', 'ADP'), ('Eastern', 'NOUN'), ('Europe', 'NOUN'), ('and', 'CONJ'), ('the', 'DET'), ('11th', 'ADJ'), ('time', 'NOUN'), ('that', 'ADP'), ('it', 'PRON'), ('has', 'VERB'), ('been', 'VERB'), ('held', 'VERB'), ('in', 'ADP'), ('Europe', 'NOUN'), ('.', '.'), ('Show', 'NOUN'), ('me', 'PRON'), ('the', 'DET'), ('cheapest', 'ADJ'), ('round', 'NOUN'), ('trips', 'NOUN'), ('from', 'ADP'), ('Dallas', 'NOUN'), ('to', 'PRT'), ('Atlanta', 'NOUN'), ('I', 'PRON'), ('would', 'VERB'), ('like', 'ADP'), ('to', 'PRT'), ('see', 'VERB'), ('flights', 'NOUN'), ('from', 'ADP'), ('Denver', 'NOUN'), ('to', 'PRT'), ('Philadelphia', 'NOUN'), ('.', '.'), ('Show', 'NOUN'), ('me', 'PRON'), ('the', 'DET'), ('price', 'NOUN'), ('of', 'ADP'), ('the', 'DET'), ('flights', 'NOUN'), ('leaving', 'VERB'), ('Atlanta', 'NOUN'), ('at', 'ADP'), ('about', 'ADP'), ('3', 'NUM'), ('in', 'ADP'), ('the', 'DET'), ('afternoon', 'NOUN'), ('and', 'CONJ'), ('arriving', 'VERB'), ('in', 'ADP'), ('San', 'NOUN'), ('Francisco', 'NOUN'), ('.', '.'), ('NASA', 'NOUN'), ('invited', 'VERB'), ('social', 'ADJ'), ('media', 'NOUN'), ('users', 'NOUN'), ('to', 'PRT'), ('experience', 'NOUN'), ('the', 'DET'), ('launch', 'NOUN'), ('of', 'ADP'), ('ICESAT-2', 'NOUN'), ('Satellite', 'NOUN'), ('.', '.')]\n"
     ]
    }
   ],
   "source": [
    "## Testing\n",
    "start = time.time()\n",
    "tagged_seq_test2 = Viterbi_mod2(test_instances)\n",
    "end = time.time()\n",
    "difference_test2 = end-start\n",
    "print(tagged_seq_test2)"
   ]
  },
  {
   "cell_type": "markdown",
   "metadata": {},
   "source": [
    "### 4. Compare the tagging accuracies of the modifications with the vanilla Viterbi algorithm"
   ]
  },
  {
   "cell_type": "code",
   "execution_count": 265,
   "metadata": {},
   "outputs": [
    {
     "name": "stdout",
     "output_type": "stream",
     "text": [
      "Accuracy of classic Viterbi Model =  0.9100906810727378 | Execution time is =  2357.430577278137\n"
     ]
    }
   ],
   "source": [
    "# accuracy & run time in Viterbi Model\n",
    "print(\"Accuracy of classic Viterbi Model = \", accuracy, \"| Execution time is = \", difference)"
   ]
  },
  {
   "cell_type": "code",
   "execution_count": 269,
   "metadata": {},
   "outputs": [
    {
     "name": "stdout",
     "output_type": "stream",
     "text": [
      "Accuracy of Modified Viterbi Model (1) =  0.9289986494308315 | Execution time is =  2196.8854429721832\n"
     ]
    }
   ],
   "source": [
    "# accuracy & run time in Modified Viterbi Model(1)\n",
    "print(\"Accuracy of Modified Viterbi Model (1) = \", accuracy1, \"| Execution time is = \", difference1)"
   ]
  },
  {
   "cell_type": "markdown",
   "metadata": {},
   "source": [
    "- As observed, the accuracy icreased approximately `20%` in the modified Viterbi Model(1)"
   ]
  },
  {
   "cell_type": "code",
   "execution_count": 270,
   "metadata": {},
   "outputs": [
    {
     "name": "stdout",
     "output_type": "stream",
     "text": [
      "Accuracy of Modified Viterbi Model (2) =  0.9425043411151842 | Execution time is =  2299.583652973175\n"
     ]
    }
   ],
   "source": [
    "# accuracy & run time in Modified Viterbi Model(2)\n",
    "print(\"Accuracy of Modified Viterbi Model (2) = \", accuracy2, \"| Execution time is = \", difference2)"
   ]
  },
  {
   "cell_type": "markdown",
   "metadata": {},
   "source": [
    "- As observed, the accracy icreased more than `30%` in the modified Viterbi Model(2)"
   ]
  },
  {
   "cell_type": "code",
   "execution_count": 286,
   "metadata": {},
   "outputs": [
    {
     "data": {
      "text/plain": [
       "<BarContainer object of 3 artists>"
      ]
     },
     "execution_count": 286,
     "metadata": {},
     "output_type": "execute_result"
    },
    {
     "data": {
      "image/png": "[encoded data removed]",
      "text/plain": [
       "<Figure size 432x288 with 1 Axes>"
      ]
     },
     "metadata": {
      "needs_background": "light"
     },
     "output_type": "display_data"
    }
   ],
   "source": [
    "# Bar plots for accuracies\n",
    "acc = [accuracy, accuracy1, accuracy2]\n",
    "mod = ['Normal', 'Mod_1', 'Mod_2']\n",
    "plt.bar(mod, acc, width=0.5, bottom=None, align='center', data=None)"
   ]
  },
  {
   "cell_type": "markdown",
   "metadata": {},
   "source": [
    "### 5. List down cases which were incorrectly tagged by original POS tagger and got corrected by your modifications"
   ]
  },
  {
   "cell_type": "code",
   "execution_count": 293,
   "metadata": {},
   "outputs": [
    {
     "name": "stdout",
     "output_type": "stream",
     "text": [
      "Number of words tagged incorrectly in Classic Viterbi =  466\n",
      "Number of words tagged incorrectly in Modified Viterbi(1) =  368\n",
      "Number of words tagged incorrectly in Modified Viterbi(2) =  298\n"
     ]
    }
   ],
   "source": [
    "# Incorrectly tagged words in all the variations\n",
    "print(\"Number of words tagged incorrectly in Classic Viterbi = \",len(incorrect_tagged_cases))\n",
    "print(\"Number of words tagged incorrectly in Modified Viterbi(1) = \",len(incorrect_tagged_cases1))\n",
    "print(\"Number of words tagged incorrectly in Modified Viterbi(2) = \",len(incorrect_tagged_cases2))"
   ]
  },
  {
   "cell_type": "code",
   "execution_count": 296,
   "metadata": {},
   "outputs": [
    {
     "data": {
      "text/plain": [
       "<BarContainer object of 3 artists>"
      ]
     },
     "execution_count": 296,
     "metadata": {},
     "output_type": "execute_result"
    },
    {
     "data": {
      "image/png": "[encoded data removed]",
      "text/plain": [
       "<Figure size 432x288 with 1 Axes>"
      ]
     },
     "metadata": {
      "needs_background": "light"
     },
     "output_type": "display_data"
    }
   ],
   "source": [
    "# Bar plots for wrongly tagged cases\n",
    "wtags = [len(incorrect_tagged_cases), len(incorrect_tagged_cases1), len(incorrect_tagged_cases2)]\n",
    "mod = ['Normal', 'Mod_1', 'Mod_2']\n",
    "plt.bar(mod, wtags, width=0.5, bottom=None, align='center', data=None)"
   ]
  },
  {
   "cell_type": "code",
   "execution_count": 305,
   "metadata": {},
   "outputs": [
    {
     "data": {
      "text/plain": [
       "['trained', 'only', 'they', 'banks', 'pine']"
      ]
     },
     "execution_count": 305,
     "metadata": {},
     "output_type": "execute_result"
    }
   ],
   "source": [
    "# list of incorrectly tagged words original Viterbi\n",
    "wordlist = [tup[0][0] for tup in incorrect_tagged_cases]\n",
    "wordlist[:5]"
   ]
  },
  {
   "cell_type": "code",
   "execution_count": 307,
   "metadata": {},
   "outputs": [
    {
     "data": {
      "text/plain": [
       "['trained', 'only', 'they', 'A', 'banks']"
      ]
     },
     "execution_count": 307,
     "metadata": {},
     "output_type": "execute_result"
    }
   ],
   "source": [
    "# list of incorrectly tagged words modified Viterbi 1\n",
    "wordlist1 = [tup[0][0] for tup in incorrect_tagged_cases1]\n",
    "wordlist1[:5]"
   ]
  },
  {
   "cell_type": "code",
   "execution_count": 308,
   "metadata": {},
   "outputs": [
    {
     "data": {
      "text/plain": [
       "['they', 'A', 'banks', 'pine', 'give']"
      ]
     },
     "execution_count": 308,
     "metadata": {},
     "output_type": "execute_result"
    }
   ],
   "source": [
    "# list of incorrectly tagged words modified Viterbi 2\n",
    "wordlist2 = [tup[0][0] for tup in incorrect_tagged_cases2]\n",
    "wordlist2[:5]"
   ]
  },
  {
   "cell_type": "code",
   "execution_count": 321,
   "metadata": {},
   "outputs": [
    {
     "data": {
      "text/plain": [
       "['revenue-desperate',\n",
       " 'expendable',\n",
       " 'Cruise',\n",
       " 'gambling',\n",
       " 'theological',\n",
       " 'almost',\n",
       " 'illegal',\n",
       " 'Kent',\n",
       " 'school',\n",
       " 'Video']"
      ]
     },
     "execution_count": 321,
     "metadata": {},
     "output_type": "execute_result"
    }
   ],
   "source": [
    "# words corrected in modified viterbi 1\n",
    "correctword =list(set(wordlist).difference(set(wordlist1)))\n",
    "correctword[:10]"
   ]
  },
  {
   "cell_type": "code",
   "execution_count": 324,
   "metadata": {},
   "outputs": [
    {
     "data": {
      "text/plain": [
       "['granting',\n",
       " 'expendable',\n",
       " 'gambling',\n",
       " 'almost',\n",
       " 'sell',\n",
       " 'becomes',\n",
       " 'illegal',\n",
       " 'are',\n",
       " 'Kent',\n",
       " 'school']"
      ]
     },
     "execution_count": 324,
     "metadata": {},
     "output_type": "execute_result"
    }
   ],
   "source": [
    "# words corrected in modified viterbi mod 1\n",
    "correctword1 =list(set(wordlist).difference(set(wordlist2)))\n",
    "correctword1[:10]"
   ]
  },
  {
   "cell_type": "markdown",
   "metadata": {},
   "source": [
    "- We can observe from the lists above, the words which are tagged properly in the modifications of original Viterbi Algorithm.\n"
   ]
  },
  {
   "cell_type": "markdown",
   "metadata": {},
   "source": [
    "##### Let's observe how the models behave to some samples "
   ]
  },
  {
   "cell_type": "markdown",
   "metadata": {},
   "source": [
    "- Comparing Original Viterbi with first modificarion"
   ]
  },
  {
   "cell_type": "code",
   "execution_count": 345,
   "metadata": {},
   "outputs": [
    {
     "data": {
      "text/plain": [
       "[('Elisa', 'ADJ'),\n",
       " ('certified', 'ADJ'),\n",
       " ('Nicole', 'ADJ'),\n",
       " ('Gary', 'NOUN'),\n",
       " ('circuit', 'NOUN')]"
      ]
     },
     "execution_count": 345,
     "metadata": {},
     "output_type": "execute_result"
    }
   ],
   "source": [
    "# finding tags for a sample- Original Viterbi\n",
    "test_seq = Viterbi(correctword[38:43])\n",
    "test_seq"
   ]
  },
  {
   "cell_type": "code",
   "execution_count": 346,
   "metadata": {},
   "outputs": [
    {
     "data": {
      "text/plain": [
       "[('Elisa', 'NOUN'),\n",
       " ('certified', 'NOUN'),\n",
       " ('Nicole', 'NOUN'),\n",
       " ('Gary', 'NOUN'),\n",
       " ('circuit', 'NOUN')]"
      ]
     },
     "execution_count": 346,
     "metadata": {},
     "output_type": "execute_result"
    }
   ],
   "source": [
    "# finding tags for a sample- Modified Viterbi(1)\n",
    "test_seq1 = Viterbi_mod(correctword[38:43])\n",
    "test_seq1"
   ]
  },
  {
   "cell_type": "markdown",
   "metadata": {},
   "source": [
    "- Unknown names such as 'Elisa', 'Nicole' etc were wrongly tagged as 'ADJ', which were correctly tagged as 'NOUN' in the 1st modification."
   ]
  },
  {
   "cell_type": "markdown",
   "metadata": {},
   "source": [
    "- Comparing Original Viterbi with second modificarion"
   ]
  },
  {
   "cell_type": "code",
   "execution_count": 332,
   "metadata": {},
   "outputs": [
    {
     "data": {
      "text/plain": [
       "[('granting', 'ADJ'),\n",
       " ('expendable', 'ADJ'),\n",
       " ('gambling', 'ADJ'),\n",
       " ('almost', 'ADV'),\n",
       " ('sell', 'VERB')]"
      ]
     },
     "execution_count": 332,
     "metadata": {},
     "output_type": "execute_result"
    }
   ],
   "source": [
    "# finding tags for a sample- Original Viterbi\n",
    "test_seq2 = Viterbi(correctword1[:5])\n",
    "test_seq2"
   ]
  },
  {
   "cell_type": "code",
   "execution_count": 333,
   "metadata": {},
   "outputs": [
    {
     "data": {
      "text/plain": [
       "[('granting', 'VERB'),\n",
       " ('expendable', 'ADJ'),\n",
       " ('gambling', 'VERB'),\n",
       " ('almost', 'ADV'),\n",
       " ('sell', 'VERB')]"
      ]
     },
     "execution_count": 333,
     "metadata": {},
     "output_type": "execute_result"
    }
   ],
   "source": [
    "# finding tags for a sample- Modified Viterbi(2)\n",
    "test_seq3 = Viterbi_mod2(correctword1[:5])\n",
    "test_seq3"
   ]
  },
  {
   "cell_type": "markdown",
   "metadata": {},
   "source": [
    "- Words such as 'granting', 'gambling' were wrongly tagged as 'ADJ', which were correctly tagged as 'VERB' in the 2nd modification."
   ]
  }
 ],
 "metadata": {
  "kernelspec": {
   "display_name": "Python 3",
   "language": "python",
   "name": "python3"
  },
  "language_info": {
   "codemirror_mode": {
    "name": "ipython",
    "version": 3
   },
   "file_extension": ".py",
   "mimetype": "text/x-python",
   "name": "python",
   "nbconvert_exporter": "python",
   "pygments_lexer": "ipython3",
   "version": "3.6.8"
  }
 },
 "nbformat": 4,
 "nbformat_minor": 2
}
